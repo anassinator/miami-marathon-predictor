{
 "cells": [
  {
   "cell_type": "markdown",
   "metadata": {},
   "source": [
    "# Participant Prediction"
   ]
  },
  {
   "cell_type": "code",
   "execution_count": 1,
   "metadata": {
    "collapsed": true
   },
   "outputs": [],
   "source": [
    "%precision 3\n",
    "%matplotlib inline"
   ]
  },
  {
   "cell_type": "code",
   "execution_count": 2,
   "metadata": {
    "collapsed": true
   },
   "outputs": [],
   "source": [
    "# Year to predict for\n",
    "PREDICTION_YEAR = 2016\n",
    "\n",
    "# Year to train prediction for\n",
    "TRAINING_PREDICTION_YEAR = PREDICTION_YEAR - 1\n",
    "\n",
    "# Percent of dataset to use for training\n",
    "TRAINING_DATA_PERCENT = 0.70\n",
    "\n",
    "# Available year range\n",
    "MIN_YEAR = 2003\n",
    "MAX_YEAR = 2016"
   ]
  },
  {
   "cell_type": "markdown",
   "metadata": {},
   "source": [
    "## Preprocessing"
   ]
  },
  {
   "cell_type": "code",
   "execution_count": 3,
   "metadata": {
    "collapsed": false
   },
   "outputs": [],
   "source": [
    "import data\n",
    "import pandas as pd"
   ]
  },
  {
   "cell_type": "code",
   "execution_count": 4,
   "metadata": {
    "collapsed": false
   },
   "outputs": [],
   "source": [
    "def get_recurring_runners_from(df, curr_year, target_year):\n",
    "    return df.loc[(df.year == target_year) & (df.years_since_run == target_year - curr_year)]\n",
    "\n",
    "\n",
    "def set_participated_in_year(df, curr_year, target_year):\n",
    "    next_df = get_recurring_runners_from(df, curr_year, target_year)\n",
    "    recurring_ids = next_df.id.unique()\n",
    "    df.loc[(df.year == curr_year) & (df.id.isin(recurring_ids)), \"participated_in_year\"] = True\n",
    "    \n",
    "    \n",
    "def set_all_participated_in_year(df, target_year):\n",
    "    df[\"participated_in_year\"] = False\n",
    "    for year in range(MIN_YEAR, target_year):\n",
    "        set_participated_in_year(df, year, target_year)\n",
    "\n",
    "\n",
    "def set_run_count_class(run_count):\n",
    "    if run_count <= 0:\n",
    "        return 0\n",
    "    elif run_count < 2:\n",
    "        return 1\n",
    "    elif run_count < 3:\n",
    "        return 2\n",
    "    elif run_count < 5:\n",
    "        return 3\n",
    "    elif run_count < 7:\n",
    "        return 4\n",
    "    else:\n",
    "        return 5"
   ]
  },
  {
   "cell_type": "code",
   "execution_count": 5,
   "metadata": {
    "collapsed": false
   },
   "outputs": [],
   "source": [
    "raw_df = data.get_data()\n",
    "df = pd.DataFrame()\n",
    "\n",
    "df[\"id\"] = raw_df[\"id\"]\n",
    "df[\"age\"] = raw_df[\"age\"].apply(lambda x: 5 * (x // 5))\n",
    "df[\"male\"] = raw_df[\"male\"]\n",
    "df[\"year\"] = raw_df[\"year\"]\n",
    "df[\"run_count\"] = raw_df[\"run_count\"]\n",
    "df[\"run_count_class\"] = raw_df[\"run_count\"].apply(set_run_count_class)\n",
    "df[\"ran_a_lot\"] = raw_df[\"run_count\"].apply(lambda x: x > 7)\n",
    "df[\"years_since_run\"] = raw_df[\"years_since_run\"].apply(lambda x: max(0, x))\n",
    "df[\"ran_last_year\"] = raw_df[\"years_since_run\"].apply(lambda x: x == 1)\n",
    "df[\"years_to_prediction\"] = raw_df[\"year\"].apply(lambda x: TRAINING_PREDICTION_YEAR - x)\n",
    "df[\"time_in_seconds\"] = raw_df[\"time_in_seconds\"]\n",
    "df[\"ignore\"] = raw_df[\"ignore\"]\n",
    "set_all_participated_in_year(df, TRAINING_PREDICTION_YEAR)\n",
    "\n",
    "all_df = df.copy()    \n",
    "\n",
    "df = df.loc[df.ignore == False]\n",
    "df = df.sample(frac=1)"
   ]
  },
  {
   "cell_type": "code",
   "execution_count": 6,
   "metadata": {
    "collapsed": false
   },
   "outputs": [
    {
     "data": {
      "text/html": [
       "<div>\n",
       "<table border=\"1\" class=\"dataframe\">\n",
       "  <thead>\n",
       "    <tr style=\"text-align: right;\">\n",
       "      <th></th>\n",
       "      <th>id</th>\n",
       "      <th>age</th>\n",
       "      <th>male</th>\n",
       "      <th>year</th>\n",
       "      <th>run_count</th>\n",
       "      <th>run_count_class</th>\n",
       "      <th>ran_a_lot</th>\n",
       "      <th>years_since_run</th>\n",
       "      <th>ran_last_year</th>\n",
       "      <th>years_to_prediction</th>\n",
       "      <th>time_in_seconds</th>\n",
       "      <th>ignore</th>\n",
       "      <th>participated_in_year</th>\n",
       "    </tr>\n",
       "  </thead>\n",
       "  <tbody>\n",
       "    <tr>\n",
       "      <th>34197</th>\n",
       "      <td>25970</td>\n",
       "      <td>40</td>\n",
       "      <td>1</td>\n",
       "      <td>2013</td>\n",
       "      <td>0</td>\n",
       "      <td>0</td>\n",
       "      <td>False</td>\n",
       "      <td>0</td>\n",
       "      <td>False</td>\n",
       "      <td>2</td>\n",
       "      <td>15405.0</td>\n",
       "      <td>False</td>\n",
       "      <td>False</td>\n",
       "    </tr>\n",
       "    <tr>\n",
       "      <th>32337</th>\n",
       "      <td>24204</td>\n",
       "      <td>25</td>\n",
       "      <td>1</td>\n",
       "      <td>2013</td>\n",
       "      <td>0</td>\n",
       "      <td>0</td>\n",
       "      <td>False</td>\n",
       "      <td>0</td>\n",
       "      <td>False</td>\n",
       "      <td>2</td>\n",
       "      <td>13543.0</td>\n",
       "      <td>False</td>\n",
       "      <td>False</td>\n",
       "    </tr>\n",
       "    <tr>\n",
       "      <th>33112</th>\n",
       "      <td>24938</td>\n",
       "      <td>50</td>\n",
       "      <td>1</td>\n",
       "      <td>2013</td>\n",
       "      <td>0</td>\n",
       "      <td>0</td>\n",
       "      <td>False</td>\n",
       "      <td>0</td>\n",
       "      <td>False</td>\n",
       "      <td>2</td>\n",
       "      <td>13091.0</td>\n",
       "      <td>False</td>\n",
       "      <td>False</td>\n",
       "    </tr>\n",
       "    <tr>\n",
       "      <th>30961</th>\n",
       "      <td>22910</td>\n",
       "      <td>45</td>\n",
       "      <td>1</td>\n",
       "      <td>2012</td>\n",
       "      <td>0</td>\n",
       "      <td>0</td>\n",
       "      <td>False</td>\n",
       "      <td>0</td>\n",
       "      <td>False</td>\n",
       "      <td>3</td>\n",
       "      <td>15283.0</td>\n",
       "      <td>False</td>\n",
       "      <td>False</td>\n",
       "    </tr>\n",
       "    <tr>\n",
       "      <th>3995</th>\n",
       "      <td>2454</td>\n",
       "      <td>40</td>\n",
       "      <td>0</td>\n",
       "      <td>2016</td>\n",
       "      <td>0</td>\n",
       "      <td>0</td>\n",
       "      <td>False</td>\n",
       "      <td>0</td>\n",
       "      <td>False</td>\n",
       "      <td>-1</td>\n",
       "      <td>15875.0</td>\n",
       "      <td>False</td>\n",
       "      <td>False</td>\n",
       "    </tr>\n",
       "    <tr>\n",
       "      <th>19804</th>\n",
       "      <td>13552</td>\n",
       "      <td>35</td>\n",
       "      <td>0</td>\n",
       "      <td>2009</td>\n",
       "      <td>0</td>\n",
       "      <td>0</td>\n",
       "      <td>False</td>\n",
       "      <td>0</td>\n",
       "      <td>False</td>\n",
       "      <td>6</td>\n",
       "      <td>16484.0</td>\n",
       "      <td>False</td>\n",
       "      <td>False</td>\n",
       "    </tr>\n",
       "    <tr>\n",
       "      <th>21623</th>\n",
       "      <td>14965</td>\n",
       "      <td>55</td>\n",
       "      <td>1</td>\n",
       "      <td>2015</td>\n",
       "      <td>2</td>\n",
       "      <td>2</td>\n",
       "      <td>False</td>\n",
       "      <td>3</td>\n",
       "      <td>False</td>\n",
       "      <td>0</td>\n",
       "      <td>20832.0</td>\n",
       "      <td>False</td>\n",
       "      <td>False</td>\n",
       "    </tr>\n",
       "    <tr>\n",
       "      <th>37843</th>\n",
       "      <td>29457</td>\n",
       "      <td>35</td>\n",
       "      <td>1</td>\n",
       "      <td>2015</td>\n",
       "      <td>0</td>\n",
       "      <td>0</td>\n",
       "      <td>False</td>\n",
       "      <td>0</td>\n",
       "      <td>False</td>\n",
       "      <td>0</td>\n",
       "      <td>16996.0</td>\n",
       "      <td>False</td>\n",
       "      <td>False</td>\n",
       "    </tr>\n",
       "    <tr>\n",
       "      <th>7320</th>\n",
       "      <td>4210</td>\n",
       "      <td>60</td>\n",
       "      <td>1</td>\n",
       "      <td>2005</td>\n",
       "      <td>1</td>\n",
       "      <td>1</td>\n",
       "      <td>False</td>\n",
       "      <td>2</td>\n",
       "      <td>False</td>\n",
       "      <td>10</td>\n",
       "      <td>17609.0</td>\n",
       "      <td>False</td>\n",
       "      <td>False</td>\n",
       "    </tr>\n",
       "    <tr>\n",
       "      <th>19934</th>\n",
       "      <td>13660</td>\n",
       "      <td>45</td>\n",
       "      <td>1</td>\n",
       "      <td>2014</td>\n",
       "      <td>1</td>\n",
       "      <td>1</td>\n",
       "      <td>False</td>\n",
       "      <td>5</td>\n",
       "      <td>False</td>\n",
       "      <td>1</td>\n",
       "      <td>21736.0</td>\n",
       "      <td>False</td>\n",
       "      <td>False</td>\n",
       "    </tr>\n",
       "    <tr>\n",
       "      <th>8428</th>\n",
       "      <td>4906</td>\n",
       "      <td>45</td>\n",
       "      <td>1</td>\n",
       "      <td>2007</td>\n",
       "      <td>2</td>\n",
       "      <td>2</td>\n",
       "      <td>False</td>\n",
       "      <td>1</td>\n",
       "      <td>True</td>\n",
       "      <td>8</td>\n",
       "      <td>13112.0</td>\n",
       "      <td>False</td>\n",
       "      <td>False</td>\n",
       "    </tr>\n",
       "    <tr>\n",
       "      <th>6202</th>\n",
       "      <td>3553</td>\n",
       "      <td>45</td>\n",
       "      <td>0</td>\n",
       "      <td>2003</td>\n",
       "      <td>0</td>\n",
       "      <td>0</td>\n",
       "      <td>False</td>\n",
       "      <td>0</td>\n",
       "      <td>False</td>\n",
       "      <td>12</td>\n",
       "      <td>17294.0</td>\n",
       "      <td>False</td>\n",
       "      <td>False</td>\n",
       "    </tr>\n",
       "    <tr>\n",
       "      <th>31257</th>\n",
       "      <td>23188</td>\n",
       "      <td>35</td>\n",
       "      <td>1</td>\n",
       "      <td>2013</td>\n",
       "      <td>0</td>\n",
       "      <td>0</td>\n",
       "      <td>False</td>\n",
       "      <td>0</td>\n",
       "      <td>False</td>\n",
       "      <td>2</td>\n",
       "      <td>15209.0</td>\n",
       "      <td>False</td>\n",
       "      <td>False</td>\n",
       "    </tr>\n",
       "    <tr>\n",
       "      <th>27593</th>\n",
       "      <td>19859</td>\n",
       "      <td>40</td>\n",
       "      <td>0</td>\n",
       "      <td>2011</td>\n",
       "      <td>0</td>\n",
       "      <td>0</td>\n",
       "      <td>False</td>\n",
       "      <td>0</td>\n",
       "      <td>False</td>\n",
       "      <td>4</td>\n",
       "      <td>12488.0</td>\n",
       "      <td>False</td>\n",
       "      <td>False</td>\n",
       "    </tr>\n",
       "    <tr>\n",
       "      <th>25289</th>\n",
       "      <td>17943</td>\n",
       "      <td>25</td>\n",
       "      <td>0</td>\n",
       "      <td>2011</td>\n",
       "      <td>0</td>\n",
       "      <td>0</td>\n",
       "      <td>False</td>\n",
       "      <td>0</td>\n",
       "      <td>False</td>\n",
       "      <td>4</td>\n",
       "      <td>13144.0</td>\n",
       "      <td>False</td>\n",
       "      <td>False</td>\n",
       "    </tr>\n",
       "    <tr>\n",
       "      <th>10708</th>\n",
       "      <td>6462</td>\n",
       "      <td>30</td>\n",
       "      <td>1</td>\n",
       "      <td>2005</td>\n",
       "      <td>0</td>\n",
       "      <td>0</td>\n",
       "      <td>False</td>\n",
       "      <td>0</td>\n",
       "      <td>False</td>\n",
       "      <td>10</td>\n",
       "      <td>20181.0</td>\n",
       "      <td>False</td>\n",
       "      <td>False</td>\n",
       "    </tr>\n",
       "    <tr>\n",
       "      <th>20129</th>\n",
       "      <td>13806</td>\n",
       "      <td>40</td>\n",
       "      <td>1</td>\n",
       "      <td>2009</td>\n",
       "      <td>0</td>\n",
       "      <td>0</td>\n",
       "      <td>False</td>\n",
       "      <td>0</td>\n",
       "      <td>False</td>\n",
       "      <td>6</td>\n",
       "      <td>15780.0</td>\n",
       "      <td>False</td>\n",
       "      <td>False</td>\n",
       "    </tr>\n",
       "    <tr>\n",
       "      <th>6750</th>\n",
       "      <td>3884</td>\n",
       "      <td>60</td>\n",
       "      <td>1</td>\n",
       "      <td>2005</td>\n",
       "      <td>1</td>\n",
       "      <td>1</td>\n",
       "      <td>False</td>\n",
       "      <td>2</td>\n",
       "      <td>False</td>\n",
       "      <td>10</td>\n",
       "      <td>17239.0</td>\n",
       "      <td>False</td>\n",
       "      <td>False</td>\n",
       "    </tr>\n",
       "    <tr>\n",
       "      <th>16721</th>\n",
       "      <td>11107</td>\n",
       "      <td>30</td>\n",
       "      <td>1</td>\n",
       "      <td>2007</td>\n",
       "      <td>0</td>\n",
       "      <td>0</td>\n",
       "      <td>False</td>\n",
       "      <td>0</td>\n",
       "      <td>False</td>\n",
       "      <td>8</td>\n",
       "      <td>16941.0</td>\n",
       "      <td>False</td>\n",
       "      <td>False</td>\n",
       "    </tr>\n",
       "    <tr>\n",
       "      <th>11556</th>\n",
       "      <td>7081</td>\n",
       "      <td>30</td>\n",
       "      <td>1</td>\n",
       "      <td>2005</td>\n",
       "      <td>0</td>\n",
       "      <td>0</td>\n",
       "      <td>False</td>\n",
       "      <td>0</td>\n",
       "      <td>False</td>\n",
       "      <td>10</td>\n",
       "      <td>13474.0</td>\n",
       "      <td>False</td>\n",
       "      <td>True</td>\n",
       "    </tr>\n",
       "    <tr>\n",
       "      <th>21565</th>\n",
       "      <td>14921</td>\n",
       "      <td>40</td>\n",
       "      <td>0</td>\n",
       "      <td>2009</td>\n",
       "      <td>0</td>\n",
       "      <td>0</td>\n",
       "      <td>False</td>\n",
       "      <td>0</td>\n",
       "      <td>False</td>\n",
       "      <td>6</td>\n",
       "      <td>15777.0</td>\n",
       "      <td>False</td>\n",
       "      <td>False</td>\n",
       "    </tr>\n",
       "    <tr>\n",
       "      <th>31572</th>\n",
       "      <td>23485</td>\n",
       "      <td>45</td>\n",
       "      <td>1</td>\n",
       "      <td>2013</td>\n",
       "      <td>0</td>\n",
       "      <td>0</td>\n",
       "      <td>False</td>\n",
       "      <td>0</td>\n",
       "      <td>False</td>\n",
       "      <td>2</td>\n",
       "      <td>14400.0</td>\n",
       "      <td>False</td>\n",
       "      <td>False</td>\n",
       "    </tr>\n",
       "    <tr>\n",
       "      <th>20896</th>\n",
       "      <td>14409</td>\n",
       "      <td>50</td>\n",
       "      <td>1</td>\n",
       "      <td>2013</td>\n",
       "      <td>2</td>\n",
       "      <td>2</td>\n",
       "      <td>False</td>\n",
       "      <td>2</td>\n",
       "      <td>False</td>\n",
       "      <td>2</td>\n",
       "      <td>13064.0</td>\n",
       "      <td>False</td>\n",
       "      <td>False</td>\n",
       "    </tr>\n",
       "    <tr>\n",
       "      <th>11505</th>\n",
       "      <td>7048</td>\n",
       "      <td>40</td>\n",
       "      <td>0</td>\n",
       "      <td>2007</td>\n",
       "      <td>1</td>\n",
       "      <td>1</td>\n",
       "      <td>False</td>\n",
       "      <td>2</td>\n",
       "      <td>False</td>\n",
       "      <td>8</td>\n",
       "      <td>12799.0</td>\n",
       "      <td>False</td>\n",
       "      <td>False</td>\n",
       "    </tr>\n",
       "    <tr>\n",
       "      <th>8337</th>\n",
       "      <td>4849</td>\n",
       "      <td>40</td>\n",
       "      <td>0</td>\n",
       "      <td>2004</td>\n",
       "      <td>0</td>\n",
       "      <td>0</td>\n",
       "      <td>False</td>\n",
       "      <td>0</td>\n",
       "      <td>False</td>\n",
       "      <td>11</td>\n",
       "      <td>17396.0</td>\n",
       "      <td>False</td>\n",
       "      <td>False</td>\n",
       "    </tr>\n",
       "    <tr>\n",
       "      <th>6588</th>\n",
       "      <td>3798</td>\n",
       "      <td>25</td>\n",
       "      <td>0</td>\n",
       "      <td>2003</td>\n",
       "      <td>0</td>\n",
       "      <td>0</td>\n",
       "      <td>False</td>\n",
       "      <td>0</td>\n",
       "      <td>False</td>\n",
       "      <td>12</td>\n",
       "      <td>22583.0</td>\n",
       "      <td>False</td>\n",
       "      <td>False</td>\n",
       "    </tr>\n",
       "    <tr>\n",
       "      <th>13919</th>\n",
       "      <td>8923</td>\n",
       "      <td>20</td>\n",
       "      <td>1</td>\n",
       "      <td>2006</td>\n",
       "      <td>0</td>\n",
       "      <td>0</td>\n",
       "      <td>False</td>\n",
       "      <td>0</td>\n",
       "      <td>False</td>\n",
       "      <td>9</td>\n",
       "      <td>14119.0</td>\n",
       "      <td>False</td>\n",
       "      <td>False</td>\n",
       "    </tr>\n",
       "    <tr>\n",
       "      <th>10311</th>\n",
       "      <td>6171</td>\n",
       "      <td>30</td>\n",
       "      <td>1</td>\n",
       "      <td>2005</td>\n",
       "      <td>0</td>\n",
       "      <td>0</td>\n",
       "      <td>False</td>\n",
       "      <td>0</td>\n",
       "      <td>False</td>\n",
       "      <td>10</td>\n",
       "      <td>14710.0</td>\n",
       "      <td>False</td>\n",
       "      <td>False</td>\n",
       "    </tr>\n",
       "    <tr>\n",
       "      <th>31115</th>\n",
       "      <td>23057</td>\n",
       "      <td>35</td>\n",
       "      <td>1</td>\n",
       "      <td>2013</td>\n",
       "      <td>0</td>\n",
       "      <td>0</td>\n",
       "      <td>False</td>\n",
       "      <td>0</td>\n",
       "      <td>False</td>\n",
       "      <td>2</td>\n",
       "      <td>14344.0</td>\n",
       "      <td>False</td>\n",
       "      <td>False</td>\n",
       "    </tr>\n",
       "    <tr>\n",
       "      <th>36048</th>\n",
       "      <td>27709</td>\n",
       "      <td>40</td>\n",
       "      <td>0</td>\n",
       "      <td>2014</td>\n",
       "      <td>0</td>\n",
       "      <td>0</td>\n",
       "      <td>False</td>\n",
       "      <td>0</td>\n",
       "      <td>False</td>\n",
       "      <td>1</td>\n",
       "      <td>19188.0</td>\n",
       "      <td>False</td>\n",
       "      <td>False</td>\n",
       "    </tr>\n",
       "    <tr>\n",
       "      <th>...</th>\n",
       "      <td>...</td>\n",
       "      <td>...</td>\n",
       "      <td>...</td>\n",
       "      <td>...</td>\n",
       "      <td>...</td>\n",
       "      <td>...</td>\n",
       "      <td>...</td>\n",
       "      <td>...</td>\n",
       "      <td>...</td>\n",
       "      <td>...</td>\n",
       "      <td>...</td>\n",
       "      <td>...</td>\n",
       "      <td>...</td>\n",
       "    </tr>\n",
       "    <tr>\n",
       "      <th>26562</th>\n",
       "      <td>19005</td>\n",
       "      <td>20</td>\n",
       "      <td>1</td>\n",
       "      <td>2011</td>\n",
       "      <td>0</td>\n",
       "      <td>0</td>\n",
       "      <td>False</td>\n",
       "      <td>0</td>\n",
       "      <td>False</td>\n",
       "      <td>4</td>\n",
       "      <td>15559.0</td>\n",
       "      <td>False</td>\n",
       "      <td>False</td>\n",
       "    </tr>\n",
       "    <tr>\n",
       "      <th>26775</th>\n",
       "      <td>19183</td>\n",
       "      <td>45</td>\n",
       "      <td>1</td>\n",
       "      <td>2011</td>\n",
       "      <td>0</td>\n",
       "      <td>0</td>\n",
       "      <td>False</td>\n",
       "      <td>0</td>\n",
       "      <td>False</td>\n",
       "      <td>4</td>\n",
       "      <td>10016.0</td>\n",
       "      <td>False</td>\n",
       "      <td>False</td>\n",
       "    </tr>\n",
       "    <tr>\n",
       "      <th>13767</th>\n",
       "      <td>8799</td>\n",
       "      <td>45</td>\n",
       "      <td>1</td>\n",
       "      <td>2006</td>\n",
       "      <td>0</td>\n",
       "      <td>0</td>\n",
       "      <td>False</td>\n",
       "      <td>0</td>\n",
       "      <td>False</td>\n",
       "      <td>9</td>\n",
       "      <td>19682.0</td>\n",
       "      <td>False</td>\n",
       "      <td>False</td>\n",
       "    </tr>\n",
       "    <tr>\n",
       "      <th>11669</th>\n",
       "      <td>7160</td>\n",
       "      <td>40</td>\n",
       "      <td>1</td>\n",
       "      <td>2005</td>\n",
       "      <td>0</td>\n",
       "      <td>0</td>\n",
       "      <td>False</td>\n",
       "      <td>0</td>\n",
       "      <td>False</td>\n",
       "      <td>10</td>\n",
       "      <td>17399.0</td>\n",
       "      <td>False</td>\n",
       "      <td>False</td>\n",
       "    </tr>\n",
       "    <tr>\n",
       "      <th>19087</th>\n",
       "      <td>12997</td>\n",
       "      <td>55</td>\n",
       "      <td>1</td>\n",
       "      <td>2008</td>\n",
       "      <td>0</td>\n",
       "      <td>0</td>\n",
       "      <td>False</td>\n",
       "      <td>0</td>\n",
       "      <td>False</td>\n",
       "      <td>7</td>\n",
       "      <td>18437.0</td>\n",
       "      <td>False</td>\n",
       "      <td>False</td>\n",
       "    </tr>\n",
       "    <tr>\n",
       "      <th>37156</th>\n",
       "      <td>28770</td>\n",
       "      <td>15</td>\n",
       "      <td>1</td>\n",
       "      <td>2015</td>\n",
       "      <td>0</td>\n",
       "      <td>0</td>\n",
       "      <td>False</td>\n",
       "      <td>0</td>\n",
       "      <td>False</td>\n",
       "      <td>0</td>\n",
       "      <td>12541.0</td>\n",
       "      <td>False</td>\n",
       "      <td>False</td>\n",
       "    </tr>\n",
       "    <tr>\n",
       "      <th>16700</th>\n",
       "      <td>11088</td>\n",
       "      <td>20</td>\n",
       "      <td>1</td>\n",
       "      <td>2007</td>\n",
       "      <td>0</td>\n",
       "      <td>0</td>\n",
       "      <td>False</td>\n",
       "      <td>0</td>\n",
       "      <td>False</td>\n",
       "      <td>8</td>\n",
       "      <td>13010.0</td>\n",
       "      <td>False</td>\n",
       "      <td>False</td>\n",
       "    </tr>\n",
       "    <tr>\n",
       "      <th>23863</th>\n",
       "      <td>16758</td>\n",
       "      <td>35</td>\n",
       "      <td>1</td>\n",
       "      <td>2010</td>\n",
       "      <td>0</td>\n",
       "      <td>0</td>\n",
       "      <td>False</td>\n",
       "      <td>0</td>\n",
       "      <td>False</td>\n",
       "      <td>5</td>\n",
       "      <td>11768.0</td>\n",
       "      <td>False</td>\n",
       "      <td>True</td>\n",
       "    </tr>\n",
       "    <tr>\n",
       "      <th>8631</th>\n",
       "      <td>5049</td>\n",
       "      <td>25</td>\n",
       "      <td>1</td>\n",
       "      <td>2004</td>\n",
       "      <td>0</td>\n",
       "      <td>0</td>\n",
       "      <td>False</td>\n",
       "      <td>0</td>\n",
       "      <td>False</td>\n",
       "      <td>11</td>\n",
       "      <td>17747.0</td>\n",
       "      <td>False</td>\n",
       "      <td>False</td>\n",
       "    </tr>\n",
       "    <tr>\n",
       "      <th>24609</th>\n",
       "      <td>17375</td>\n",
       "      <td>30</td>\n",
       "      <td>0</td>\n",
       "      <td>2010</td>\n",
       "      <td>0</td>\n",
       "      <td>0</td>\n",
       "      <td>False</td>\n",
       "      <td>0</td>\n",
       "      <td>False</td>\n",
       "      <td>5</td>\n",
       "      <td>15282.0</td>\n",
       "      <td>False</td>\n",
       "      <td>False</td>\n",
       "    </tr>\n",
       "    <tr>\n",
       "      <th>37923</th>\n",
       "      <td>29537</td>\n",
       "      <td>40</td>\n",
       "      <td>1</td>\n",
       "      <td>2015</td>\n",
       "      <td>0</td>\n",
       "      <td>0</td>\n",
       "      <td>False</td>\n",
       "      <td>0</td>\n",
       "      <td>False</td>\n",
       "      <td>0</td>\n",
       "      <td>13925.0</td>\n",
       "      <td>False</td>\n",
       "      <td>False</td>\n",
       "    </tr>\n",
       "    <tr>\n",
       "      <th>7165</th>\n",
       "      <td>4123</td>\n",
       "      <td>25</td>\n",
       "      <td>1</td>\n",
       "      <td>2004</td>\n",
       "      <td>1</td>\n",
       "      <td>1</td>\n",
       "      <td>False</td>\n",
       "      <td>1</td>\n",
       "      <td>True</td>\n",
       "      <td>11</td>\n",
       "      <td>14099.0</td>\n",
       "      <td>False</td>\n",
       "      <td>False</td>\n",
       "    </tr>\n",
       "    <tr>\n",
       "      <th>32728</th>\n",
       "      <td>24574</td>\n",
       "      <td>60</td>\n",
       "      <td>1</td>\n",
       "      <td>2013</td>\n",
       "      <td>0</td>\n",
       "      <td>0</td>\n",
       "      <td>False</td>\n",
       "      <td>0</td>\n",
       "      <td>False</td>\n",
       "      <td>2</td>\n",
       "      <td>13358.0</td>\n",
       "      <td>False</td>\n",
       "      <td>False</td>\n",
       "    </tr>\n",
       "    <tr>\n",
       "      <th>12280</th>\n",
       "      <td>7641</td>\n",
       "      <td>50</td>\n",
       "      <td>1</td>\n",
       "      <td>2006</td>\n",
       "      <td>0</td>\n",
       "      <td>0</td>\n",
       "      <td>False</td>\n",
       "      <td>0</td>\n",
       "      <td>False</td>\n",
       "      <td>9</td>\n",
       "      <td>16217.0</td>\n",
       "      <td>False</td>\n",
       "      <td>False</td>\n",
       "    </tr>\n",
       "    <tr>\n",
       "      <th>28636</th>\n",
       "      <td>20786</td>\n",
       "      <td>65</td>\n",
       "      <td>1</td>\n",
       "      <td>2012</td>\n",
       "      <td>0</td>\n",
       "      <td>0</td>\n",
       "      <td>False</td>\n",
       "      <td>0</td>\n",
       "      <td>False</td>\n",
       "      <td>3</td>\n",
       "      <td>19511.0</td>\n",
       "      <td>False</td>\n",
       "      <td>False</td>\n",
       "    </tr>\n",
       "    <tr>\n",
       "      <th>10919</th>\n",
       "      <td>6629</td>\n",
       "      <td>60</td>\n",
       "      <td>1</td>\n",
       "      <td>2005</td>\n",
       "      <td>0</td>\n",
       "      <td>0</td>\n",
       "      <td>False</td>\n",
       "      <td>0</td>\n",
       "      <td>False</td>\n",
       "      <td>10</td>\n",
       "      <td>24531.0</td>\n",
       "      <td>False</td>\n",
       "      <td>False</td>\n",
       "    </tr>\n",
       "    <tr>\n",
       "      <th>27213</th>\n",
       "      <td>19539</td>\n",
       "      <td>25</td>\n",
       "      <td>1</td>\n",
       "      <td>2011</td>\n",
       "      <td>0</td>\n",
       "      <td>0</td>\n",
       "      <td>False</td>\n",
       "      <td>0</td>\n",
       "      <td>False</td>\n",
       "      <td>4</td>\n",
       "      <td>16487.0</td>\n",
       "      <td>False</td>\n",
       "      <td>False</td>\n",
       "    </tr>\n",
       "    <tr>\n",
       "      <th>25189</th>\n",
       "      <td>17856</td>\n",
       "      <td>45</td>\n",
       "      <td>1</td>\n",
       "      <td>2012</td>\n",
       "      <td>1</td>\n",
       "      <td>1</td>\n",
       "      <td>False</td>\n",
       "      <td>1</td>\n",
       "      <td>True</td>\n",
       "      <td>3</td>\n",
       "      <td>16347.0</td>\n",
       "      <td>False</td>\n",
       "      <td>False</td>\n",
       "    </tr>\n",
       "    <tr>\n",
       "      <th>315</th>\n",
       "      <td>185</td>\n",
       "      <td>35</td>\n",
       "      <td>0</td>\n",
       "      <td>2016</td>\n",
       "      <td>0</td>\n",
       "      <td>0</td>\n",
       "      <td>False</td>\n",
       "      <td>0</td>\n",
       "      <td>False</td>\n",
       "      <td>-1</td>\n",
       "      <td>17402.0</td>\n",
       "      <td>False</td>\n",
       "      <td>False</td>\n",
       "    </tr>\n",
       "    <tr>\n",
       "      <th>19438</th>\n",
       "      <td>13282</td>\n",
       "      <td>50</td>\n",
       "      <td>1</td>\n",
       "      <td>2009</td>\n",
       "      <td>0</td>\n",
       "      <td>0</td>\n",
       "      <td>False</td>\n",
       "      <td>0</td>\n",
       "      <td>False</td>\n",
       "      <td>6</td>\n",
       "      <td>15195.0</td>\n",
       "      <td>False</td>\n",
       "      <td>False</td>\n",
       "    </tr>\n",
       "    <tr>\n",
       "      <th>11159</th>\n",
       "      <td>6792</td>\n",
       "      <td>40</td>\n",
       "      <td>1</td>\n",
       "      <td>2005</td>\n",
       "      <td>0</td>\n",
       "      <td>0</td>\n",
       "      <td>False</td>\n",
       "      <td>0</td>\n",
       "      <td>False</td>\n",
       "      <td>10</td>\n",
       "      <td>17555.0</td>\n",
       "      <td>False</td>\n",
       "      <td>False</td>\n",
       "    </tr>\n",
       "    <tr>\n",
       "      <th>9024</th>\n",
       "      <td>5310</td>\n",
       "      <td>40</td>\n",
       "      <td>0</td>\n",
       "      <td>2004</td>\n",
       "      <td>0</td>\n",
       "      <td>0</td>\n",
       "      <td>False</td>\n",
       "      <td>0</td>\n",
       "      <td>False</td>\n",
       "      <td>11</td>\n",
       "      <td>19166.0</td>\n",
       "      <td>False</td>\n",
       "      <td>False</td>\n",
       "    </tr>\n",
       "    <tr>\n",
       "      <th>2004</th>\n",
       "      <td>1203</td>\n",
       "      <td>50</td>\n",
       "      <td>0</td>\n",
       "      <td>2014</td>\n",
       "      <td>3</td>\n",
       "      <td>3</td>\n",
       "      <td>False</td>\n",
       "      <td>0</td>\n",
       "      <td>False</td>\n",
       "      <td>1</td>\n",
       "      <td>23334.0</td>\n",
       "      <td>False</td>\n",
       "      <td>True</td>\n",
       "    </tr>\n",
       "    <tr>\n",
       "      <th>3584</th>\n",
       "      <td>2206</td>\n",
       "      <td>40</td>\n",
       "      <td>1</td>\n",
       "      <td>2016</td>\n",
       "      <td>0</td>\n",
       "      <td>0</td>\n",
       "      <td>False</td>\n",
       "      <td>0</td>\n",
       "      <td>False</td>\n",
       "      <td>-1</td>\n",
       "      <td>13630.0</td>\n",
       "      <td>False</td>\n",
       "      <td>False</td>\n",
       "    </tr>\n",
       "    <tr>\n",
       "      <th>6256</th>\n",
       "      <td>3588</td>\n",
       "      <td>45</td>\n",
       "      <td>1</td>\n",
       "      <td>2003</td>\n",
       "      <td>0</td>\n",
       "      <td>0</td>\n",
       "      <td>False</td>\n",
       "      <td>0</td>\n",
       "      <td>False</td>\n",
       "      <td>12</td>\n",
       "      <td>15840.0</td>\n",
       "      <td>False</td>\n",
       "      <td>False</td>\n",
       "    </tr>\n",
       "    <tr>\n",
       "      <th>10505</th>\n",
       "      <td>6308</td>\n",
       "      <td>45</td>\n",
       "      <td>0</td>\n",
       "      <td>2005</td>\n",
       "      <td>0</td>\n",
       "      <td>0</td>\n",
       "      <td>False</td>\n",
       "      <td>0</td>\n",
       "      <td>False</td>\n",
       "      <td>10</td>\n",
       "      <td>20369.0</td>\n",
       "      <td>False</td>\n",
       "      <td>False</td>\n",
       "    </tr>\n",
       "    <tr>\n",
       "      <th>36656</th>\n",
       "      <td>28290</td>\n",
       "      <td>35</td>\n",
       "      <td>1</td>\n",
       "      <td>2014</td>\n",
       "      <td>0</td>\n",
       "      <td>0</td>\n",
       "      <td>False</td>\n",
       "      <td>0</td>\n",
       "      <td>False</td>\n",
       "      <td>1</td>\n",
       "      <td>15841.0</td>\n",
       "      <td>False</td>\n",
       "      <td>False</td>\n",
       "    </tr>\n",
       "    <tr>\n",
       "      <th>22788</th>\n",
       "      <td>15897</td>\n",
       "      <td>40</td>\n",
       "      <td>1</td>\n",
       "      <td>2010</td>\n",
       "      <td>0</td>\n",
       "      <td>0</td>\n",
       "      <td>False</td>\n",
       "      <td>0</td>\n",
       "      <td>False</td>\n",
       "      <td>5</td>\n",
       "      <td>13669.0</td>\n",
       "      <td>False</td>\n",
       "      <td>False</td>\n",
       "    </tr>\n",
       "    <tr>\n",
       "      <th>26766</th>\n",
       "      <td>19174</td>\n",
       "      <td>25</td>\n",
       "      <td>0</td>\n",
       "      <td>2011</td>\n",
       "      <td>0</td>\n",
       "      <td>0</td>\n",
       "      <td>False</td>\n",
       "      <td>0</td>\n",
       "      <td>False</td>\n",
       "      <td>4</td>\n",
       "      <td>17800.0</td>\n",
       "      <td>False</td>\n",
       "      <td>False</td>\n",
       "    </tr>\n",
       "    <tr>\n",
       "      <th>35867</th>\n",
       "      <td>27539</td>\n",
       "      <td>45</td>\n",
       "      <td>0</td>\n",
       "      <td>2014</td>\n",
       "      <td>0</td>\n",
       "      <td>0</td>\n",
       "      <td>False</td>\n",
       "      <td>0</td>\n",
       "      <td>False</td>\n",
       "      <td>1</td>\n",
       "      <td>17211.0</td>\n",
       "      <td>False</td>\n",
       "      <td>False</td>\n",
       "    </tr>\n",
       "  </tbody>\n",
       "</table>\n",
       "<p>38402 rows × 13 columns</p>\n",
       "</div>"
      ],
      "text/plain": [
       "          id  age  male  year  run_count  run_count_class ran_a_lot  \\\n",
       "34197  25970   40     1  2013          0                0     False   \n",
       "32337  24204   25     1  2013          0                0     False   \n",
       "33112  24938   50     1  2013          0                0     False   \n",
       "30961  22910   45     1  2012          0                0     False   \n",
       "3995    2454   40     0  2016          0                0     False   \n",
       "19804  13552   35     0  2009          0                0     False   \n",
       "21623  14965   55     1  2015          2                2     False   \n",
       "37843  29457   35     1  2015          0                0     False   \n",
       "7320    4210   60     1  2005          1                1     False   \n",
       "19934  13660   45     1  2014          1                1     False   \n",
       "8428    4906   45     1  2007          2                2     False   \n",
       "6202    3553   45     0  2003          0                0     False   \n",
       "31257  23188   35     1  2013          0                0     False   \n",
       "27593  19859   40     0  2011          0                0     False   \n",
       "25289  17943   25     0  2011          0                0     False   \n",
       "10708   6462   30     1  2005          0                0     False   \n",
       "20129  13806   40     1  2009          0                0     False   \n",
       "6750    3884   60     1  2005          1                1     False   \n",
       "16721  11107   30     1  2007          0                0     False   \n",
       "11556   7081   30     1  2005          0                0     False   \n",
       "21565  14921   40     0  2009          0                0     False   \n",
       "31572  23485   45     1  2013          0                0     False   \n",
       "20896  14409   50     1  2013          2                2     False   \n",
       "11505   7048   40     0  2007          1                1     False   \n",
       "8337    4849   40     0  2004          0                0     False   \n",
       "6588    3798   25     0  2003          0                0     False   \n",
       "13919   8923   20     1  2006          0                0     False   \n",
       "10311   6171   30     1  2005          0                0     False   \n",
       "31115  23057   35     1  2013          0                0     False   \n",
       "36048  27709   40     0  2014          0                0     False   \n",
       "...      ...  ...   ...   ...        ...              ...       ...   \n",
       "26562  19005   20     1  2011          0                0     False   \n",
       "26775  19183   45     1  2011          0                0     False   \n",
       "13767   8799   45     1  2006          0                0     False   \n",
       "11669   7160   40     1  2005          0                0     False   \n",
       "19087  12997   55     1  2008          0                0     False   \n",
       "37156  28770   15     1  2015          0                0     False   \n",
       "16700  11088   20     1  2007          0                0     False   \n",
       "23863  16758   35     1  2010          0                0     False   \n",
       "8631    5049   25     1  2004          0                0     False   \n",
       "24609  17375   30     0  2010          0                0     False   \n",
       "37923  29537   40     1  2015          0                0     False   \n",
       "7165    4123   25     1  2004          1                1     False   \n",
       "32728  24574   60     1  2013          0                0     False   \n",
       "12280   7641   50     1  2006          0                0     False   \n",
       "28636  20786   65     1  2012          0                0     False   \n",
       "10919   6629   60     1  2005          0                0     False   \n",
       "27213  19539   25     1  2011          0                0     False   \n",
       "25189  17856   45     1  2012          1                1     False   \n",
       "315      185   35     0  2016          0                0     False   \n",
       "19438  13282   50     1  2009          0                0     False   \n",
       "11159   6792   40     1  2005          0                0     False   \n",
       "9024    5310   40     0  2004          0                0     False   \n",
       "2004    1203   50     0  2014          3                3     False   \n",
       "3584    2206   40     1  2016          0                0     False   \n",
       "6256    3588   45     1  2003          0                0     False   \n",
       "10505   6308   45     0  2005          0                0     False   \n",
       "36656  28290   35     1  2014          0                0     False   \n",
       "22788  15897   40     1  2010          0                0     False   \n",
       "26766  19174   25     0  2011          0                0     False   \n",
       "35867  27539   45     0  2014          0                0     False   \n",
       "\n",
       "       years_since_run ran_last_year  years_to_prediction  time_in_seconds  \\\n",
       "34197                0         False                    2          15405.0   \n",
       "32337                0         False                    2          13543.0   \n",
       "33112                0         False                    2          13091.0   \n",
       "30961                0         False                    3          15283.0   \n",
       "3995                 0         False                   -1          15875.0   \n",
       "19804                0         False                    6          16484.0   \n",
       "21623                3         False                    0          20832.0   \n",
       "37843                0         False                    0          16996.0   \n",
       "7320                 2         False                   10          17609.0   \n",
       "19934                5         False                    1          21736.0   \n",
       "8428                 1          True                    8          13112.0   \n",
       "6202                 0         False                   12          17294.0   \n",
       "31257                0         False                    2          15209.0   \n",
       "27593                0         False                    4          12488.0   \n",
       "25289                0         False                    4          13144.0   \n",
       "10708                0         False                   10          20181.0   \n",
       "20129                0         False                    6          15780.0   \n",
       "6750                 2         False                   10          17239.0   \n",
       "16721                0         False                    8          16941.0   \n",
       "11556                0         False                   10          13474.0   \n",
       "21565                0         False                    6          15777.0   \n",
       "31572                0         False                    2          14400.0   \n",
       "20896                2         False                    2          13064.0   \n",
       "11505                2         False                    8          12799.0   \n",
       "8337                 0         False                   11          17396.0   \n",
       "6588                 0         False                   12          22583.0   \n",
       "13919                0         False                    9          14119.0   \n",
       "10311                0         False                   10          14710.0   \n",
       "31115                0         False                    2          14344.0   \n",
       "36048                0         False                    1          19188.0   \n",
       "...                ...           ...                  ...              ...   \n",
       "26562                0         False                    4          15559.0   \n",
       "26775                0         False                    4          10016.0   \n",
       "13767                0         False                    9          19682.0   \n",
       "11669                0         False                   10          17399.0   \n",
       "19087                0         False                    7          18437.0   \n",
       "37156                0         False                    0          12541.0   \n",
       "16700                0         False                    8          13010.0   \n",
       "23863                0         False                    5          11768.0   \n",
       "8631                 0         False                   11          17747.0   \n",
       "24609                0         False                    5          15282.0   \n",
       "37923                0         False                    0          13925.0   \n",
       "7165                 1          True                   11          14099.0   \n",
       "32728                0         False                    2          13358.0   \n",
       "12280                0         False                    9          16217.0   \n",
       "28636                0         False                    3          19511.0   \n",
       "10919                0         False                   10          24531.0   \n",
       "27213                0         False                    4          16487.0   \n",
       "25189                1          True                    3          16347.0   \n",
       "315                  0         False                   -1          17402.0   \n",
       "19438                0         False                    6          15195.0   \n",
       "11159                0         False                   10          17555.0   \n",
       "9024                 0         False                   11          19166.0   \n",
       "2004                 0         False                    1          23334.0   \n",
       "3584                 0         False                   -1          13630.0   \n",
       "6256                 0         False                   12          15840.0   \n",
       "10505                0         False                   10          20369.0   \n",
       "36656                0         False                    1          15841.0   \n",
       "22788                0         False                    5          13669.0   \n",
       "26766                0         False                    4          17800.0   \n",
       "35867                0         False                    1          17211.0   \n",
       "\n",
       "      ignore participated_in_year  \n",
       "34197  False                False  \n",
       "32337  False                False  \n",
       "33112  False                False  \n",
       "30961  False                False  \n",
       "3995   False                False  \n",
       "19804  False                False  \n",
       "21623  False                False  \n",
       "37843  False                False  \n",
       "7320   False                False  \n",
       "19934  False                False  \n",
       "8428   False                False  \n",
       "6202   False                False  \n",
       "31257  False                False  \n",
       "27593  False                False  \n",
       "25289  False                False  \n",
       "10708  False                False  \n",
       "20129  False                False  \n",
       "6750   False                False  \n",
       "16721  False                False  \n",
       "11556  False                 True  \n",
       "21565  False                False  \n",
       "31572  False                False  \n",
       "20896  False                False  \n",
       "11505  False                False  \n",
       "8337   False                False  \n",
       "6588   False                False  \n",
       "13919  False                False  \n",
       "10311  False                False  \n",
       "31115  False                False  \n",
       "36048  False                False  \n",
       "...      ...                  ...  \n",
       "26562  False                False  \n",
       "26775  False                False  \n",
       "13767  False                False  \n",
       "11669  False                False  \n",
       "19087  False                False  \n",
       "37156  False                False  \n",
       "16700  False                False  \n",
       "23863  False                 True  \n",
       "8631   False                False  \n",
       "24609  False                False  \n",
       "37923  False                False  \n",
       "7165   False                False  \n",
       "32728  False                False  \n",
       "12280  False                False  \n",
       "28636  False                False  \n",
       "10919  False                False  \n",
       "27213  False                False  \n",
       "25189  False                False  \n",
       "315    False                False  \n",
       "19438  False                False  \n",
       "11159  False                False  \n",
       "9024   False                False  \n",
       "2004   False                 True  \n",
       "3584   False                False  \n",
       "6256   False                False  \n",
       "10505  False                False  \n",
       "36656  False                False  \n",
       "22788  False                False  \n",
       "26766  False                False  \n",
       "35867  False                False  \n",
       "\n",
       "[38402 rows x 13 columns]"
      ]
     },
     "execution_count": 6,
     "metadata": {},
     "output_type": "execute_result"
    }
   ],
   "source": [
    "df"
   ]
  },
  {
   "cell_type": "markdown",
   "metadata": {},
   "source": [
    "## Splitting data"
   ]
  },
  {
   "cell_type": "code",
   "execution_count": 7,
   "metadata": {
    "collapsed": true
   },
   "outputs": [],
   "source": [
    "import numpy as np"
   ]
  },
  {
   "cell_type": "code",
   "execution_count": 8,
   "metadata": {
    "collapsed": true
   },
   "outputs": [],
   "source": [
    "def get_nb_inputs(df):\n",
    "    return df[[\"age\", \"male\", \"run_count\", \"years_since_run\", \"years_to_prediction\"]]\n",
    "\n",
    "\n",
    "def get_reg_inputs(df):\n",
    "    return df[[\"age\", \"male\", \"run_count\", \"years_since_run\", \"time_in_seconds\"]]\n",
    "\n",
    "\n",
    "def get_outputs(df):\n",
    "    return df[\"participated_in_year\"]\n",
    "\n",
    "\n",
    "def count(df):\n",
    "    return df.count().id"
   ]
  },
  {
   "cell_type": "code",
   "execution_count": 9,
   "metadata": {
    "collapsed": false
   },
   "outputs": [],
   "source": [
    "dataset = df[df.year < TRAINING_PREDICTION_YEAR]\n",
    "training_mask = np.random.rand(len(dataset)) < TRAINING_DATA_PERCENT\n",
    "training = dataset[training_mask]\n",
    "testing = dataset[~training_mask]\n",
    "\n",
    "training_nb_inputs = get_nb_inputs(training)\n",
    "training_reg_inputs = get_reg_inputs(training)\n",
    "training_outputs = get_outputs(training)\n",
    "\n",
    "testing_nb_inputs = get_nb_inputs(testing)\n",
    "testing_reg_inputs = get_reg_inputs(testing)\n",
    "testing_outputs = get_outputs(testing)"
   ]
  },
  {
   "cell_type": "code",
   "execution_count": 10,
   "metadata": {
    "collapsed": false
   },
   "outputs": [],
   "source": [
    "training_positives = count(training[training.participated_in_year])\n",
    "training_total = count(training)\n",
    "\n",
    "testing_positives = count(testing[testing.participated_in_year])\n",
    "testing_total = count(testing)"
   ]
  },
  {
   "cell_type": "code",
   "execution_count": 11,
   "metadata": {
    "collapsed": false
   },
   "outputs": [
    {
     "data": {
      "text/plain": [
       "(484, 23017, 0.021)"
      ]
     },
     "execution_count": 11,
     "metadata": {},
     "output_type": "execute_result"
    }
   ],
   "source": [
    "training_positives, training_total, training_positives / training_total"
   ]
  },
  {
   "cell_type": "code",
   "execution_count": 12,
   "metadata": {
    "collapsed": false
   },
   "outputs": [
    {
     "data": {
      "text/plain": [
       "(225, 9634, 0.023)"
      ]
     },
     "execution_count": 12,
     "metadata": {},
     "output_type": "execute_result"
    }
   ],
   "source": [
    "testing_positives, testing_total, testing_positives / testing_total"
   ]
  },
  {
   "cell_type": "markdown",
   "metadata": {},
   "source": [
    "## Training"
   ]
  },
  {
   "cell_type": "markdown",
   "metadata": {},
   "source": [
    "#### Bernoulli Naive Bayes"
   ]
  },
  {
   "cell_type": "code",
   "execution_count": 13,
   "metadata": {
    "collapsed": true
   },
   "outputs": [],
   "source": [
    "from sklearn.naive_bayes import BernoulliNB"
   ]
  },
  {
   "cell_type": "code",
   "execution_count": 14,
   "metadata": {
    "collapsed": false
   },
   "outputs": [],
   "source": [
    "bnb = BernoulliNB()\n",
    "bnb = bnb.fit(training_nb_inputs, training_outputs)"
   ]
  },
  {
   "cell_type": "code",
   "execution_count": 15,
   "metadata": {
    "collapsed": false
   },
   "outputs": [],
   "source": [
    "bnb_predictions = bnb.predict(testing_nb_inputs)"
   ]
  },
  {
   "cell_type": "markdown",
   "metadata": {},
   "source": [
    "#### Gaussian Naive Bayes"
   ]
  },
  {
   "cell_type": "code",
   "execution_count": 16,
   "metadata": {
    "collapsed": true
   },
   "outputs": [],
   "source": [
    "from sklearn.naive_bayes import GaussianNB"
   ]
  },
  {
   "cell_type": "code",
   "execution_count": 17,
   "metadata": {
    "collapsed": false
   },
   "outputs": [],
   "source": [
    "gnb = GaussianNB()\n",
    "gnb = gnb.fit(training_nb_inputs, training_outputs)"
   ]
  },
  {
   "cell_type": "code",
   "execution_count": 18,
   "metadata": {
    "collapsed": false
   },
   "outputs": [],
   "source": [
    "gnb_predictions = gnb.predict(testing_nb_inputs)"
   ]
  },
  {
   "cell_type": "markdown",
   "metadata": {},
   "source": [
    "#### Multinomial Naive Bayes"
   ]
  },
  {
   "cell_type": "code",
   "execution_count": 19,
   "metadata": {
    "collapsed": true
   },
   "outputs": [],
   "source": [
    "from sklearn.naive_bayes import MultinomialNB"
   ]
  },
  {
   "cell_type": "code",
   "execution_count": 20,
   "metadata": {
    "collapsed": false
   },
   "outputs": [],
   "source": [
    "mnb = MultinomialNB()\n",
    "mnb = mnb.fit(training_nb_inputs, training_outputs)"
   ]
  },
  {
   "cell_type": "code",
   "execution_count": 21,
   "metadata": {
    "collapsed": false
   },
   "outputs": [],
   "source": [
    "mnb_predictions = mnb.predict(testing_nb_inputs)"
   ]
  },
  {
   "cell_type": "markdown",
   "metadata": {},
   "source": [
    "#### Custom Multinomial Naive Bayes"
   ]
  },
  {
   "cell_type": "code",
   "execution_count": 22,
   "metadata": {
    "collapsed": true
   },
   "outputs": [],
   "source": [
    "from naive_bayes import MultinomialNaiveBayes"
   ]
  },
  {
   "cell_type": "code",
   "execution_count": 23,
   "metadata": {
    "collapsed": false
   },
   "outputs": [],
   "source": [
    "custom_mnb = MultinomialNaiveBayes()\n",
    "custom_mnb.fit(training_nb_inputs.as_matrix(), training_outputs.as_matrix())"
   ]
  },
  {
   "cell_type": "code",
   "execution_count": 24,
   "metadata": {
    "collapsed": false
   },
   "outputs": [],
   "source": [
    "custom_mnb_predictions = custom_mnb.predict(testing_nb_inputs.as_matrix())"
   ]
  },
  {
   "cell_type": "markdown",
   "metadata": {},
   "source": [
    "#### Logistic Regression"
   ]
  },
  {
   "cell_type": "code",
   "execution_count": 25,
   "metadata": {
    "collapsed": true
   },
   "outputs": [],
   "source": [
    "from sklearn.linear_model import LogisticRegression"
   ]
  },
  {
   "cell_type": "code",
   "execution_count": 26,
   "metadata": {
    "collapsed": false
   },
   "outputs": [],
   "source": [
    "reg = LogisticRegression()\n",
    "reg = reg.fit(training_reg_inputs, training_outputs)"
   ]
  },
  {
   "cell_type": "code",
   "execution_count": 27,
   "metadata": {
    "collapsed": false
   },
   "outputs": [],
   "source": [
    "reg_predictions = reg.predict(testing_reg_inputs)"
   ]
  },
  {
   "cell_type": "markdown",
   "metadata": {},
   "source": [
    "## Testing"
   ]
  },
  {
   "cell_type": "code",
   "execution_count": 28,
   "metadata": {
    "collapsed": false
   },
   "outputs": [],
   "source": [
    "import seaborn as sns\n",
    "import matplotlib.pyplot as plt\n",
    "from sklearn.metrics import confusion_matrix"
   ]
  },
  {
   "cell_type": "code",
   "execution_count": 29,
   "metadata": {
    "collapsed": false
   },
   "outputs": [],
   "source": [
    "def get_confusion_matrix(predictions, truth):\n",
    "    confusion = confusion_matrix(truth, predictions)\n",
    "    confusion_df = pd.DataFrame(confusion,\n",
    "                                index=[\"N\", \"Y\"],\n",
    "                                columns=[\"N\", \"Y\"])\n",
    "\n",
    "    percent_df = confusion_df.applymap(lambda x: x / confusion.sum())\n",
    "\n",
    "    return confusion_df, percent_df\n",
    "\n",
    "\n",
    "def plot_confusion_matrix(confusion, percent):\n",
    "    fig, axs = plt.subplots(nrows=2, sharex=True)\n",
    "    sns.heatmap(confusion, annot=True, fmt=\"d\", ax=axs[0])\n",
    "    sns.heatmap(percent, annot=True, ax=axs[1])"
   ]
  },
  {
   "cell_type": "markdown",
   "metadata": {},
   "source": [
    "#### Expected Distribution"
   ]
  },
  {
   "cell_type": "code",
   "execution_count": 30,
   "metadata": {
    "collapsed": false
   },
   "outputs": [
    {
     "data": {
      "image/png": "[encoded data removed]",
      "text/plain": [
       "<matplotlib.figure.Figure at 0x10e5c1320>"
      ]
     },
     "metadata": {},
     "output_type": "display_data"
    }
   ],
   "source": [
    "plot_confusion_matrix(*get_confusion_matrix(testing_outputs, testing_outputs))"
   ]
  },
  {
   "cell_type": "markdown",
   "metadata": {},
   "source": [
    "#### Bernouilli Naive Bayes"
   ]
  },
  {
   "cell_type": "code",
   "execution_count": 31,
   "metadata": {
    "collapsed": false,
    "scrolled": false
   },
   "outputs": [
    {
     "data": {
      "image/png": "[encoded data removed]",
      "text/plain": [
       "<matplotlib.figure.Figure at 0x1112952e8>"
      ]
     },
     "metadata": {},
     "output_type": "display_data"
    }
   ],
   "source": [
    "plot_confusion_matrix(*get_confusion_matrix(bnb_predictions, testing_outputs))"
   ]
  },
  {
   "cell_type": "code",
   "execution_count": 32,
   "metadata": {
    "collapsed": false
   },
   "outputs": [
    {
     "data": {
      "text/plain": [
       "0.977"
      ]
     },
     "execution_count": 32,
     "metadata": {},
     "output_type": "execute_result"
    }
   ],
   "source": [
    "bnb.score(testing_nb_inputs, testing_outputs)"
   ]
  },
  {
   "cell_type": "markdown",
   "metadata": {},
   "source": [
    "#### Gaussian Naive Bayes"
   ]
  },
  {
   "cell_type": "code",
   "execution_count": 33,
   "metadata": {
    "collapsed": false
   },
   "outputs": [
    {
     "data": {
      "image/png": "[encoded data removed]",
      "text/plain": [
       "<matplotlib.figure.Figure at 0x1112a70b8>"
      ]
     },
     "metadata": {},
     "output_type": "display_data"
    }
   ],
   "source": [
    "plot_confusion_matrix(*get_confusion_matrix(gnb_predictions, testing_outputs))"
   ]
  },
  {
   "cell_type": "code",
   "execution_count": 34,
   "metadata": {
    "collapsed": false
   },
   "outputs": [
    {
     "data": {
      "text/plain": [
       "0.944"
      ]
     },
     "execution_count": 34,
     "metadata": {},
     "output_type": "execute_result"
    }
   ],
   "source": [
    "gnb.score(testing_nb_inputs, testing_outputs)"
   ]
  },
  {
   "cell_type": "markdown",
   "metadata": {},
   "source": [
    "#### Multinomial Naive Bayes"
   ]
  },
  {
   "cell_type": "code",
   "execution_count": 35,
   "metadata": {
    "collapsed": false
   },
   "outputs": [
    {
     "data": {
      "image/png": "[encoded data removed]",
      "text/plain": [
       "<matplotlib.figure.Figure at 0x111295c50>"
      ]
     },
     "metadata": {},
     "output_type": "display_data"
    }
   ],
   "source": [
    "plot_confusion_matrix(*get_confusion_matrix(mnb_predictions, testing_outputs))"
   ]
  },
  {
   "cell_type": "code",
   "execution_count": 36,
   "metadata": {
    "collapsed": false
   },
   "outputs": [
    {
     "data": {
      "text/plain": [
       "0.942"
      ]
     },
     "execution_count": 36,
     "metadata": {},
     "output_type": "execute_result"
    }
   ],
   "source": [
    "mnb.score(testing_nb_inputs, testing_outputs)"
   ]
  },
  {
   "cell_type": "markdown",
   "metadata": {},
   "source": [
    "#### Custom Multinomial Naive Bayes"
   ]
  },
  {
   "cell_type": "code",
   "execution_count": 37,
   "metadata": {
    "collapsed": false
   },
   "outputs": [
    {
     "data": {
      "image/png": "[encoded data removed]",
      "text/plain": [
       "<matplotlib.figure.Figure at 0x112b58fd0>"
      ]
     },
     "metadata": {},
     "output_type": "display_data"
    }
   ],
   "source": [
    "plot_confusion_matrix(*get_confusion_matrix(custom_mnb_predictions, testing_outputs))"
   ]
  },
  {
   "cell_type": "code",
   "execution_count": 38,
   "metadata": {
    "collapsed": false
   },
   "outputs": [
    {
     "data": {
      "text/plain": [
       "0.973"
      ]
     },
     "execution_count": 38,
     "metadata": {},
     "output_type": "execute_result"
    }
   ],
   "source": [
    "custom_mnb.score(testing_nb_inputs.as_matrix(), testing_outputs.as_matrix())"
   ]
  },
  {
   "cell_type": "markdown",
   "metadata": {},
   "source": [
    "#### Logistic Regression"
   ]
  },
  {
   "cell_type": "code",
   "execution_count": 39,
   "metadata": {
    "collapsed": false
   },
   "outputs": [
    {
     "data": {
      "image/png": "[encoded data removed]",
      "text/plain": [
       "<matplotlib.figure.Figure at 0x1112baac8>"
      ]
     },
     "metadata": {},
     "output_type": "display_data"
    }
   ],
   "source": [
    "plot_confusion_matrix(*get_confusion_matrix(reg_predictions, testing_outputs))"
   ]
  },
  {
   "cell_type": "code",
   "execution_count": 40,
   "metadata": {
    "collapsed": false,
    "scrolled": false
   },
   "outputs": [
    {
     "data": {
      "text/plain": [
       "0.977"
      ]
     },
     "execution_count": 40,
     "metadata": {},
     "output_type": "execute_result"
    }
   ],
   "source": [
    "reg.score(testing_reg_inputs, testing_outputs)"
   ]
  },
  {
   "cell_type": "markdown",
   "metadata": {},
   "source": [
    "## Future Prediction"
   ]
  },
  {
   "cell_type": "code",
   "execution_count": 41,
   "metadata": {
    "collapsed": false
   },
   "outputs": [],
   "source": [
    "prediction_df = all_df.copy().sort_values(by=[\"id\", \"year\"])\n",
    "prediction_df[\"years_to_prediction\"] = all_df[\"year\"].apply(lambda x: PREDICTION_YEAR - x)\n",
    "\n",
    "set_all_participated_in_year(prediction_df, PREDICTION_YEAR)\n",
    "\n",
    "prediction_df = prediction_df[prediction_df.year < PREDICTION_YEAR]\n",
    "prediction_df.drop_duplicates(keep=\"last\", subset=\"id\", inplace=True)"
   ]
  },
  {
   "cell_type": "code",
   "execution_count": 42,
   "metadata": {
    "collapsed": true
   },
   "outputs": [],
   "source": [
    "prediction_nb_inputs = get_nb_inputs(prediction_df)\n",
    "prediction_reg_inputs = get_reg_inputs(prediction_df)\n",
    "\n",
    "prediction_outputs = get_outputs(prediction_df)"
   ]
  },
  {
   "cell_type": "code",
   "execution_count": 43,
   "metadata": {
    "collapsed": false
   },
   "outputs": [],
   "source": [
    "bnb_predictions = bnb.predict(prediction_nb_inputs)\n",
    "gnb_predictions = gnb.predict(prediction_nb_inputs)\n",
    "mnb_predictions = mnb.predict(prediction_nb_inputs)\n",
    "custom_mnb_predictions = custom_mnb.predict(prediction_nb_inputs.as_matrix())\n",
    "reg_predictions = reg.predict(prediction_reg_inputs)"
   ]
  },
  {
   "cell_type": "code",
   "execution_count": 44,
   "metadata": {
    "collapsed": false,
    "scrolled": true
   },
   "outputs": [
    {
     "data": {
      "text/plain": [
       "[0.000, 0.036, 0.045, 0.008, 0.000]"
      ]
     },
     "execution_count": 44,
     "metadata": {},
     "output_type": "execute_result"
    }
   ],
   "source": [
    "total = count(prediction_df)\n",
    "[\n",
    "    sum(bnb_predictions) / total,\n",
    "    sum(gnb_predictions) / total,\n",
    "    sum(mnb_predictions) / total,\n",
    "    sum(custom_mnb_predictions) / total,\n",
    "    sum(reg_predictions) / total    \n",
    "]"
   ]
  },
  {
   "cell_type": "markdown",
   "metadata": {},
   "source": [
    "### Metrics\n",
    "\n",
    "*Ignore score if no data is available for the prediction year.*"
   ]
  },
  {
   "cell_type": "markdown",
   "metadata": {},
   "source": [
    "#### Expected Distribution"
   ]
  },
  {
   "cell_type": "code",
   "execution_count": 45,
   "metadata": {
    "collapsed": false
   },
   "outputs": [
    {
     "data": {
      "image/png": "[encoded data removed]",
      "text/plain": [
       "<matplotlib.figure.Figure at 0x1112f3518>"
      ]
     },
     "metadata": {},
     "output_type": "display_data"
    }
   ],
   "source": [
    "if PREDICTION_YEAR <= MAX_YEAR:\n",
    "    plot_confusion_matrix(*get_confusion_matrix(prediction_outputs, prediction_outputs))"
   ]
  },
  {
   "cell_type": "markdown",
   "metadata": {},
   "source": [
    "#### Bernouilli Naive Bayes"
   ]
  },
  {
   "cell_type": "code",
   "execution_count": 46,
   "metadata": {
    "collapsed": false,
    "scrolled": false
   },
   "outputs": [
    {
     "data": {
      "image/png": "[encoded data removed]",
      "text/plain": [
       "<matplotlib.figure.Figure at 0x112b6c278>"
      ]
     },
     "metadata": {},
     "output_type": "display_data"
    }
   ],
   "source": [
    "plot_confusion_matrix(*get_confusion_matrix(bnb_predictions, prediction_outputs))"
   ]
  },
  {
   "cell_type": "code",
   "execution_count": 47,
   "metadata": {
    "collapsed": false
   },
   "outputs": [
    {
     "data": {
      "text/plain": [
       "0.972"
      ]
     },
     "execution_count": 47,
     "metadata": {},
     "output_type": "execute_result"
    }
   ],
   "source": [
    "bnb.score(prediction_nb_inputs, prediction_outputs)"
   ]
  },
  {
   "cell_type": "markdown",
   "metadata": {},
   "source": [
    "#### Gaussian Naive Bayes"
   ]
  },
  {
   "cell_type": "code",
   "execution_count": 48,
   "metadata": {
    "collapsed": false
   },
   "outputs": [
    {
     "data": {
      "image/png": "[encoded data removed]",
      "text/plain": [
       "<matplotlib.figure.Figure at 0x10e6a85f8>"
      ]
     },
     "metadata": {},
     "output_type": "display_data"
    }
   ],
   "source": [
    "plot_confusion_matrix(*get_confusion_matrix(gnb_predictions, prediction_outputs))"
   ]
  },
  {
   "cell_type": "code",
   "execution_count": 49,
   "metadata": {
    "collapsed": false
   },
   "outputs": [
    {
     "data": {
      "text/plain": [
       "0.948"
      ]
     },
     "execution_count": 49,
     "metadata": {},
     "output_type": "execute_result"
    }
   ],
   "source": [
    "gnb.score(prediction_nb_inputs, prediction_outputs)"
   ]
  },
  {
   "cell_type": "markdown",
   "metadata": {},
   "source": [
    "#### Multinomial Naive Bayes"
   ]
  },
  {
   "cell_type": "code",
   "execution_count": 50,
   "metadata": {
    "collapsed": false
   },
   "outputs": [
    {
     "data": {
      "image/png": "[encoded data removed]",
      "text/plain": [
       "<matplotlib.figure.Figure at 0x10e628c88>"
      ]
     },
     "metadata": {},
     "output_type": "display_data"
    }
   ],
   "source": [
    "plot_confusion_matrix(*get_confusion_matrix(mnb_predictions, prediction_outputs))"
   ]
  },
  {
   "cell_type": "code",
   "execution_count": 51,
   "metadata": {
    "collapsed": false
   },
   "outputs": [
    {
     "data": {
      "text/plain": [
       "0.944"
      ]
     },
     "execution_count": 51,
     "metadata": {},
     "output_type": "execute_result"
    }
   ],
   "source": [
    "mnb.score(prediction_nb_inputs, prediction_outputs)"
   ]
  },
  {
   "cell_type": "markdown",
   "metadata": {},
   "source": [
    "#### Custom Multinomial Naive Bayes"
   ]
  },
  {
   "cell_type": "code",
   "execution_count": 52,
   "metadata": {
    "collapsed": false
   },
   "outputs": [
    {
     "data": {
      "image/png": "[encoded data removed]",
      "text/plain": [
       "<matplotlib.figure.Figure at 0x112c93780>"
      ]
     },
     "metadata": {},
     "output_type": "display_data"
    }
   ],
   "source": [
    "plot_confusion_matrix(*get_confusion_matrix(custom_mnb_predictions, prediction_outputs))"
   ]
  },
  {
   "cell_type": "code",
   "execution_count": 53,
   "metadata": {
    "collapsed": false
   },
   "outputs": [
    {
     "data": {
      "text/plain": [
       "0.970"
      ]
     },
     "execution_count": 53,
     "metadata": {},
     "output_type": "execute_result"
    }
   ],
   "source": [
    "custom_mnb.score(prediction_nb_inputs.as_matrix(), prediction_outputs.as_matrix())"
   ]
  },
  {
   "cell_type": "markdown",
   "metadata": {},
   "source": [
    "#### Logistic Regression"
   ]
  },
  {
   "cell_type": "code",
   "execution_count": 54,
   "metadata": {
    "collapsed": false
   },
   "outputs": [
    {
     "data": {
      "image/png": "[encoded data removed]",
      "text/plain": [
       "<matplotlib.figure.Figure at 0x111337f98>"
      ]
     },
     "metadata": {},
     "output_type": "display_data"
    }
   ],
   "source": [
    "plot_confusion_matrix(*get_confusion_matrix(reg_predictions, prediction_outputs))"
   ]
  },
  {
   "cell_type": "code",
   "execution_count": 55,
   "metadata": {
    "collapsed": false,
    "scrolled": false
   },
   "outputs": [
    {
     "data": {
      "text/plain": [
       "0.972"
      ]
     },
     "execution_count": 55,
     "metadata": {},
     "output_type": "execute_result"
    }
   ],
   "source": [
    "reg.score(prediction_reg_inputs, prediction_outputs)"
   ]
  }
 ],
 "metadata": {
  "kernelspec": {
   "display_name": "Python 3",
   "language": "python",
   "name": "python3"
  },
  "language_info": {
   "codemirror_mode": {
    "name": "ipython",
    "version": 3
   },
   "file_extension": ".py",
   "mimetype": "text/x-python",
   "name": "python",
   "nbconvert_exporter": "python",
   "pygments_lexer": "ipython3",
   "version": "3.6.0"
  }
 },
 "nbformat": 4,
 "nbformat_minor": 2
}
