{
 "cells": [
  {
   "cell_type": "markdown",
   "metadata": {},
   "source": [
    "# Participant Prediction"
   ]
  },
  {
   "cell_type": "code",
   "execution_count": 1,
   "metadata": {
    "collapsed": true
   },
   "outputs": [],
   "source": [
    "%precision 3\n",
    "%matplotlib inline"
   ]
  },
  {
   "cell_type": "code",
   "execution_count": 2,
   "metadata": {
    "collapsed": true
   },
   "outputs": [],
   "source": [
    "# Year to predict for\n",
    "PREDICTION_YEAR = 2017\n",
    "\n",
    "# Year to train prediction for\n",
    "TRAINING_PREDICTION_YEAR = PREDICTION_YEAR - 1\n",
    "\n",
    "# Percent of dataset to use for training\n",
    "TRAINING_DATA_PERCENT = 0.70\n",
    "\n",
    "# Available year range\n",
    "MIN_YEAR = 2003\n",
    "MAX_YEAR = 2016"
   ]
  },
  {
   "cell_type": "markdown",
   "metadata": {},
   "source": [
    "## Preprocessing"
   ]
  },
  {
   "cell_type": "code",
   "execution_count": 3,
   "metadata": {
    "collapsed": false
   },
   "outputs": [],
   "source": [
    "import data\n",
    "import pandas as pd"
   ]
  },
  {
   "cell_type": "code",
   "execution_count": 4,
   "metadata": {
    "collapsed": false
   },
   "outputs": [],
   "source": [
    "def get_recurring_runners_from(df, curr_year, target_year):\n",
    "    return df.loc[(df.year == target_year) & (df.years_since_run == target_year - curr_year)]\n",
    "\n",
    "\n",
    "def set_participated_in_year(df, curr_year, target_year):\n",
    "    next_df = get_recurring_runners_from(df, curr_year, target_year)\n",
    "    recurring_ids = next_df.id.unique()\n",
    "    df.loc[(df.year == curr_year) & (df.id.isin(recurring_ids)), \"participated_in_year\"] = True\n",
    "    \n",
    "    \n",
    "def set_all_participated_in_year(df, target_year):\n",
    "    df[\"participated_in_year\"] = False\n",
    "    for year in range(MIN_YEAR, target_year):\n",
    "        set_participated_in_year(df, year, target_year)"
   ]
  },
  {
   "cell_type": "code",
   "execution_count": 5,
   "metadata": {
    "collapsed": false
   },
   "outputs": [],
   "source": [
    "raw_df = data.get_data()\n",
    "df = pd.DataFrame()\n",
    "\n",
    "df[\"id\"] = raw_df[\"id\"]\n",
    "df[\"age\"] = raw_df[\"age\"].apply(lambda x: 5 * (x // 5))\n",
    "df[\"male\"] = raw_df[\"male\"]\n",
    "df[\"year\"] = raw_df[\"year\"]\n",
    "df[\"run_count\"] = raw_df[\"run_count\"]\n",
    "df[\"years_since_run\"] = raw_df[\"years_since_run\"].apply(lambda x: max(0, x))\n",
    "df[\"ran_last_year\"] = raw_df[\"years_since_run\"].apply(lambda x: x == 1)\n",
    "df[\"years_to_prediction\"] = raw_df[\"year\"].apply(lambda x: TRAINING_PREDICTION_YEAR - x)\n",
    "df[\"time_in_seconds\"] = raw_df[\"time_in_seconds\"]\n",
    "df[\"ignore\"] = raw_df[\"ignore\"]\n",
    "set_all_participated_in_year(df, TRAINING_PREDICTION_YEAR)\n",
    "\n",
    "all_df = df.copy()    \n",
    "\n",
    "df = df.loc[df.ignore == False]\n",
    "df = df.sample(frac=1)"
   ]
  },
  {
   "cell_type": "code",
   "execution_count": 6,
   "metadata": {
    "collapsed": false
   },
   "outputs": [
    {
     "data": {
      "text/html": [
       "<div>\n",
       "<table border=\"1\" class=\"dataframe\">\n",
       "  <thead>\n",
       "    <tr style=\"text-align: right;\">\n",
       "      <th></th>\n",
       "      <th>id</th>\n",
       "      <th>age</th>\n",
       "      <th>male</th>\n",
       "      <th>year</th>\n",
       "      <th>run_count</th>\n",
       "      <th>years_since_run</th>\n",
       "      <th>ran_last_year</th>\n",
       "      <th>years_to_prediction</th>\n",
       "      <th>time_in_seconds</th>\n",
       "      <th>ignore</th>\n",
       "      <th>participated_in_year</th>\n",
       "    </tr>\n",
       "  </thead>\n",
       "  <tbody>\n",
       "    <tr>\n",
       "      <th>24359</th>\n",
       "      <td>17181</td>\n",
       "      <td>20</td>\n",
       "      <td>1</td>\n",
       "      <td>2010</td>\n",
       "      <td>0</td>\n",
       "      <td>0</td>\n",
       "      <td>False</td>\n",
       "      <td>6</td>\n",
       "      <td>18848.0</td>\n",
       "      <td>False</td>\n",
       "      <td>False</td>\n",
       "    </tr>\n",
       "    <tr>\n",
       "      <th>19091</th>\n",
       "      <td>13001</td>\n",
       "      <td>45</td>\n",
       "      <td>1</td>\n",
       "      <td>2008</td>\n",
       "      <td>0</td>\n",
       "      <td>0</td>\n",
       "      <td>False</td>\n",
       "      <td>8</td>\n",
       "      <td>15697.0</td>\n",
       "      <td>False</td>\n",
       "      <td>False</td>\n",
       "    </tr>\n",
       "    <tr>\n",
       "      <th>30809</th>\n",
       "      <td>22772</td>\n",
       "      <td>35</td>\n",
       "      <td>0</td>\n",
       "      <td>2012</td>\n",
       "      <td>0</td>\n",
       "      <td>0</td>\n",
       "      <td>False</td>\n",
       "      <td>4</td>\n",
       "      <td>10212.0</td>\n",
       "      <td>False</td>\n",
       "      <td>False</td>\n",
       "    </tr>\n",
       "    <tr>\n",
       "      <th>8578</th>\n",
       "      <td>5010</td>\n",
       "      <td>25</td>\n",
       "      <td>0</td>\n",
       "      <td>2004</td>\n",
       "      <td>0</td>\n",
       "      <td>0</td>\n",
       "      <td>False</td>\n",
       "      <td>12</td>\n",
       "      <td>17593.0</td>\n",
       "      <td>False</td>\n",
       "      <td>False</td>\n",
       "    </tr>\n",
       "    <tr>\n",
       "      <th>10938</th>\n",
       "      <td>6642</td>\n",
       "      <td>25</td>\n",
       "      <td>1</td>\n",
       "      <td>2005</td>\n",
       "      <td>0</td>\n",
       "      <td>0</td>\n",
       "      <td>False</td>\n",
       "      <td>11</td>\n",
       "      <td>14215.0</td>\n",
       "      <td>False</td>\n",
       "      <td>False</td>\n",
       "    </tr>\n",
       "    <tr>\n",
       "      <th>16441</th>\n",
       "      <td>10875</td>\n",
       "      <td>40</td>\n",
       "      <td>1</td>\n",
       "      <td>2007</td>\n",
       "      <td>0</td>\n",
       "      <td>0</td>\n",
       "      <td>False</td>\n",
       "      <td>9</td>\n",
       "      <td>14914.0</td>\n",
       "      <td>False</td>\n",
       "      <td>False</td>\n",
       "    </tr>\n",
       "    <tr>\n",
       "      <th>14257</th>\n",
       "      <td>9182</td>\n",
       "      <td>35</td>\n",
       "      <td>1</td>\n",
       "      <td>2006</td>\n",
       "      <td>0</td>\n",
       "      <td>0</td>\n",
       "      <td>False</td>\n",
       "      <td>10</td>\n",
       "      <td>14531.0</td>\n",
       "      <td>False</td>\n",
       "      <td>False</td>\n",
       "    </tr>\n",
       "    <tr>\n",
       "      <th>32692</th>\n",
       "      <td>24538</td>\n",
       "      <td>20</td>\n",
       "      <td>0</td>\n",
       "      <td>2013</td>\n",
       "      <td>0</td>\n",
       "      <td>0</td>\n",
       "      <td>False</td>\n",
       "      <td>3</td>\n",
       "      <td>14978.0</td>\n",
       "      <td>False</td>\n",
       "      <td>False</td>\n",
       "    </tr>\n",
       "    <tr>\n",
       "      <th>31762</th>\n",
       "      <td>23666</td>\n",
       "      <td>40</td>\n",
       "      <td>1</td>\n",
       "      <td>2013</td>\n",
       "      <td>0</td>\n",
       "      <td>0</td>\n",
       "      <td>False</td>\n",
       "      <td>3</td>\n",
       "      <td>14386.0</td>\n",
       "      <td>False</td>\n",
       "      <td>False</td>\n",
       "    </tr>\n",
       "    <tr>\n",
       "      <th>17528</th>\n",
       "      <td>11757</td>\n",
       "      <td>25</td>\n",
       "      <td>1</td>\n",
       "      <td>2008</td>\n",
       "      <td>0</td>\n",
       "      <td>0</td>\n",
       "      <td>False</td>\n",
       "      <td>8</td>\n",
       "      <td>17853.0</td>\n",
       "      <td>False</td>\n",
       "      <td>False</td>\n",
       "    </tr>\n",
       "    <tr>\n",
       "      <th>19186</th>\n",
       "      <td>13081</td>\n",
       "      <td>35</td>\n",
       "      <td>0</td>\n",
       "      <td>2008</td>\n",
       "      <td>0</td>\n",
       "      <td>0</td>\n",
       "      <td>False</td>\n",
       "      <td>8</td>\n",
       "      <td>16317.0</td>\n",
       "      <td>False</td>\n",
       "      <td>False</td>\n",
       "    </tr>\n",
       "    <tr>\n",
       "      <th>21262</th>\n",
       "      <td>14692</td>\n",
       "      <td>40</td>\n",
       "      <td>0</td>\n",
       "      <td>2009</td>\n",
       "      <td>0</td>\n",
       "      <td>0</td>\n",
       "      <td>False</td>\n",
       "      <td>7</td>\n",
       "      <td>17314.0</td>\n",
       "      <td>False</td>\n",
       "      <td>False</td>\n",
       "    </tr>\n",
       "    <tr>\n",
       "      <th>21811</th>\n",
       "      <td>15110</td>\n",
       "      <td>50</td>\n",
       "      <td>0</td>\n",
       "      <td>2009</td>\n",
       "      <td>0</td>\n",
       "      <td>0</td>\n",
       "      <td>False</td>\n",
       "      <td>7</td>\n",
       "      <td>18195.0</td>\n",
       "      <td>False</td>\n",
       "      <td>False</td>\n",
       "    </tr>\n",
       "    <tr>\n",
       "      <th>9064</th>\n",
       "      <td>5332</td>\n",
       "      <td>25</td>\n",
       "      <td>0</td>\n",
       "      <td>2004</td>\n",
       "      <td>0</td>\n",
       "      <td>0</td>\n",
       "      <td>False</td>\n",
       "      <td>12</td>\n",
       "      <td>17668.0</td>\n",
       "      <td>False</td>\n",
       "      <td>False</td>\n",
       "    </tr>\n",
       "    <tr>\n",
       "      <th>7814</th>\n",
       "      <td>4507</td>\n",
       "      <td>40</td>\n",
       "      <td>1</td>\n",
       "      <td>2004</td>\n",
       "      <td>0</td>\n",
       "      <td>0</td>\n",
       "      <td>False</td>\n",
       "      <td>12</td>\n",
       "      <td>11913.0</td>\n",
       "      <td>False</td>\n",
       "      <td>False</td>\n",
       "    </tr>\n",
       "    <tr>\n",
       "      <th>187</th>\n",
       "      <td>107</td>\n",
       "      <td>50</td>\n",
       "      <td>1</td>\n",
       "      <td>2016</td>\n",
       "      <td>1</td>\n",
       "      <td>4</td>\n",
       "      <td>False</td>\n",
       "      <td>0</td>\n",
       "      <td>16968.0</td>\n",
       "      <td>False</td>\n",
       "      <td>False</td>\n",
       "    </tr>\n",
       "    <tr>\n",
       "      <th>24814</th>\n",
       "      <td>17537</td>\n",
       "      <td>45</td>\n",
       "      <td>1</td>\n",
       "      <td>2012</td>\n",
       "      <td>1</td>\n",
       "      <td>1</td>\n",
       "      <td>True</td>\n",
       "      <td>4</td>\n",
       "      <td>18224.0</td>\n",
       "      <td>False</td>\n",
       "      <td>False</td>\n",
       "    </tr>\n",
       "    <tr>\n",
       "      <th>27345</th>\n",
       "      <td>19645</td>\n",
       "      <td>35</td>\n",
       "      <td>1</td>\n",
       "      <td>2013</td>\n",
       "      <td>1</td>\n",
       "      <td>2</td>\n",
       "      <td>False</td>\n",
       "      <td>3</td>\n",
       "      <td>13164.0</td>\n",
       "      <td>False</td>\n",
       "      <td>False</td>\n",
       "    </tr>\n",
       "    <tr>\n",
       "      <th>29689</th>\n",
       "      <td>21750</td>\n",
       "      <td>35</td>\n",
       "      <td>0</td>\n",
       "      <td>2012</td>\n",
       "      <td>0</td>\n",
       "      <td>0</td>\n",
       "      <td>False</td>\n",
       "      <td>4</td>\n",
       "      <td>14460.0</td>\n",
       "      <td>False</td>\n",
       "      <td>False</td>\n",
       "    </tr>\n",
       "    <tr>\n",
       "      <th>11336</th>\n",
       "      <td>6925</td>\n",
       "      <td>60</td>\n",
       "      <td>1</td>\n",
       "      <td>2011</td>\n",
       "      <td>5</td>\n",
       "      <td>1</td>\n",
       "      <td>True</td>\n",
       "      <td>5</td>\n",
       "      <td>13171.0</td>\n",
       "      <td>False</td>\n",
       "      <td>False</td>\n",
       "    </tr>\n",
       "    <tr>\n",
       "      <th>7761</th>\n",
       "      <td>4475</td>\n",
       "      <td>35</td>\n",
       "      <td>0</td>\n",
       "      <td>2004</td>\n",
       "      <td>0</td>\n",
       "      <td>0</td>\n",
       "      <td>False</td>\n",
       "      <td>12</td>\n",
       "      <td>13831.0</td>\n",
       "      <td>False</td>\n",
       "      <td>False</td>\n",
       "    </tr>\n",
       "    <tr>\n",
       "      <th>8840</th>\n",
       "      <td>5188</td>\n",
       "      <td>40</td>\n",
       "      <td>1</td>\n",
       "      <td>2006</td>\n",
       "      <td>1</td>\n",
       "      <td>2</td>\n",
       "      <td>False</td>\n",
       "      <td>10</td>\n",
       "      <td>14740.0</td>\n",
       "      <td>False</td>\n",
       "      <td>False</td>\n",
       "    </tr>\n",
       "    <tr>\n",
       "      <th>11383</th>\n",
       "      <td>6955</td>\n",
       "      <td>30</td>\n",
       "      <td>1</td>\n",
       "      <td>2005</td>\n",
       "      <td>0</td>\n",
       "      <td>0</td>\n",
       "      <td>False</td>\n",
       "      <td>11</td>\n",
       "      <td>15257.0</td>\n",
       "      <td>False</td>\n",
       "      <td>False</td>\n",
       "    </tr>\n",
       "    <tr>\n",
       "      <th>24820</th>\n",
       "      <td>17543</td>\n",
       "      <td>45</td>\n",
       "      <td>1</td>\n",
       "      <td>2011</td>\n",
       "      <td>0</td>\n",
       "      <td>0</td>\n",
       "      <td>False</td>\n",
       "      <td>5</td>\n",
       "      <td>13583.0</td>\n",
       "      <td>False</td>\n",
       "      <td>False</td>\n",
       "    </tr>\n",
       "    <tr>\n",
       "      <th>33479</th>\n",
       "      <td>25284</td>\n",
       "      <td>25</td>\n",
       "      <td>1</td>\n",
       "      <td>2013</td>\n",
       "      <td>0</td>\n",
       "      <td>0</td>\n",
       "      <td>False</td>\n",
       "      <td>3</td>\n",
       "      <td>12353.0</td>\n",
       "      <td>False</td>\n",
       "      <td>False</td>\n",
       "    </tr>\n",
       "    <tr>\n",
       "      <th>1383</th>\n",
       "      <td>837</td>\n",
       "      <td>25</td>\n",
       "      <td>0</td>\n",
       "      <td>2016</td>\n",
       "      <td>2</td>\n",
       "      <td>4</td>\n",
       "      <td>False</td>\n",
       "      <td>0</td>\n",
       "      <td>15242.0</td>\n",
       "      <td>False</td>\n",
       "      <td>False</td>\n",
       "    </tr>\n",
       "    <tr>\n",
       "      <th>28319</th>\n",
       "      <td>20500</td>\n",
       "      <td>40</td>\n",
       "      <td>0</td>\n",
       "      <td>2012</td>\n",
       "      <td>0</td>\n",
       "      <td>0</td>\n",
       "      <td>False</td>\n",
       "      <td>4</td>\n",
       "      <td>19458.0</td>\n",
       "      <td>False</td>\n",
       "      <td>False</td>\n",
       "    </tr>\n",
       "    <tr>\n",
       "      <th>36227</th>\n",
       "      <td>27878</td>\n",
       "      <td>45</td>\n",
       "      <td>1</td>\n",
       "      <td>2014</td>\n",
       "      <td>0</td>\n",
       "      <td>0</td>\n",
       "      <td>False</td>\n",
       "      <td>2</td>\n",
       "      <td>18340.0</td>\n",
       "      <td>False</td>\n",
       "      <td>False</td>\n",
       "    </tr>\n",
       "    <tr>\n",
       "      <th>11996</th>\n",
       "      <td>7412</td>\n",
       "      <td>30</td>\n",
       "      <td>1</td>\n",
       "      <td>2006</td>\n",
       "      <td>0</td>\n",
       "      <td>0</td>\n",
       "      <td>False</td>\n",
       "      <td>10</td>\n",
       "      <td>12347.0</td>\n",
       "      <td>False</td>\n",
       "      <td>False</td>\n",
       "    </tr>\n",
       "    <tr>\n",
       "      <th>36438</th>\n",
       "      <td>28080</td>\n",
       "      <td>55</td>\n",
       "      <td>1</td>\n",
       "      <td>2014</td>\n",
       "      <td>0</td>\n",
       "      <td>0</td>\n",
       "      <td>False</td>\n",
       "      <td>2</td>\n",
       "      <td>17764.0</td>\n",
       "      <td>False</td>\n",
       "      <td>False</td>\n",
       "    </tr>\n",
       "    <tr>\n",
       "      <th>...</th>\n",
       "      <td>...</td>\n",
       "      <td>...</td>\n",
       "      <td>...</td>\n",
       "      <td>...</td>\n",
       "      <td>...</td>\n",
       "      <td>...</td>\n",
       "      <td>...</td>\n",
       "      <td>...</td>\n",
       "      <td>...</td>\n",
       "      <td>...</td>\n",
       "      <td>...</td>\n",
       "    </tr>\n",
       "    <tr>\n",
       "      <th>7053</th>\n",
       "      <td>4056</td>\n",
       "      <td>30</td>\n",
       "      <td>1</td>\n",
       "      <td>2003</td>\n",
       "      <td>0</td>\n",
       "      <td>0</td>\n",
       "      <td>False</td>\n",
       "      <td>13</td>\n",
       "      <td>15007.0</td>\n",
       "      <td>False</td>\n",
       "      <td>False</td>\n",
       "    </tr>\n",
       "    <tr>\n",
       "      <th>38689</th>\n",
       "      <td>30303</td>\n",
       "      <td>30</td>\n",
       "      <td>0</td>\n",
       "      <td>2015</td>\n",
       "      <td>0</td>\n",
       "      <td>0</td>\n",
       "      <td>False</td>\n",
       "      <td>1</td>\n",
       "      <td>15624.0</td>\n",
       "      <td>False</td>\n",
       "      <td>False</td>\n",
       "    </tr>\n",
       "    <tr>\n",
       "      <th>2063</th>\n",
       "      <td>1238</td>\n",
       "      <td>30</td>\n",
       "      <td>1</td>\n",
       "      <td>2016</td>\n",
       "      <td>0</td>\n",
       "      <td>0</td>\n",
       "      <td>False</td>\n",
       "      <td>0</td>\n",
       "      <td>15897.0</td>\n",
       "      <td>False</td>\n",
       "      <td>False</td>\n",
       "    </tr>\n",
       "    <tr>\n",
       "      <th>9035</th>\n",
       "      <td>5315</td>\n",
       "      <td>35</td>\n",
       "      <td>1</td>\n",
       "      <td>2015</td>\n",
       "      <td>9</td>\n",
       "      <td>0</td>\n",
       "      <td>False</td>\n",
       "      <td>1</td>\n",
       "      <td>18945.0</td>\n",
       "      <td>False</td>\n",
       "      <td>False</td>\n",
       "    </tr>\n",
       "    <tr>\n",
       "      <th>9107</th>\n",
       "      <td>5365</td>\n",
       "      <td>30</td>\n",
       "      <td>1</td>\n",
       "      <td>2004</td>\n",
       "      <td>0</td>\n",
       "      <td>0</td>\n",
       "      <td>False</td>\n",
       "      <td>12</td>\n",
       "      <td>16102.0</td>\n",
       "      <td>False</td>\n",
       "      <td>False</td>\n",
       "    </tr>\n",
       "    <tr>\n",
       "      <th>19745</th>\n",
       "      <td>13510</td>\n",
       "      <td>40</td>\n",
       "      <td>1</td>\n",
       "      <td>2009</td>\n",
       "      <td>0</td>\n",
       "      <td>0</td>\n",
       "      <td>False</td>\n",
       "      <td>7</td>\n",
       "      <td>18225.0</td>\n",
       "      <td>False</td>\n",
       "      <td>False</td>\n",
       "    </tr>\n",
       "    <tr>\n",
       "      <th>26556</th>\n",
       "      <td>18999</td>\n",
       "      <td>30</td>\n",
       "      <td>1</td>\n",
       "      <td>2011</td>\n",
       "      <td>0</td>\n",
       "      <td>0</td>\n",
       "      <td>False</td>\n",
       "      <td>5</td>\n",
       "      <td>13169.0</td>\n",
       "      <td>False</td>\n",
       "      <td>False</td>\n",
       "    </tr>\n",
       "    <tr>\n",
       "      <th>37838</th>\n",
       "      <td>29452</td>\n",
       "      <td>40</td>\n",
       "      <td>0</td>\n",
       "      <td>2015</td>\n",
       "      <td>0</td>\n",
       "      <td>0</td>\n",
       "      <td>False</td>\n",
       "      <td>1</td>\n",
       "      <td>22853.0</td>\n",
       "      <td>False</td>\n",
       "      <td>False</td>\n",
       "    </tr>\n",
       "    <tr>\n",
       "      <th>14288</th>\n",
       "      <td>9209</td>\n",
       "      <td>35</td>\n",
       "      <td>1</td>\n",
       "      <td>2007</td>\n",
       "      <td>0</td>\n",
       "      <td>0</td>\n",
       "      <td>False</td>\n",
       "      <td>9</td>\n",
       "      <td>15713.0</td>\n",
       "      <td>False</td>\n",
       "      <td>False</td>\n",
       "    </tr>\n",
       "    <tr>\n",
       "      <th>12372</th>\n",
       "      <td>7713</td>\n",
       "      <td>35</td>\n",
       "      <td>1</td>\n",
       "      <td>2006</td>\n",
       "      <td>0</td>\n",
       "      <td>0</td>\n",
       "      <td>False</td>\n",
       "      <td>10</td>\n",
       "      <td>15348.0</td>\n",
       "      <td>False</td>\n",
       "      <td>False</td>\n",
       "    </tr>\n",
       "    <tr>\n",
       "      <th>7733</th>\n",
       "      <td>4456</td>\n",
       "      <td>50</td>\n",
       "      <td>1</td>\n",
       "      <td>2005</td>\n",
       "      <td>1</td>\n",
       "      <td>1</td>\n",
       "      <td>True</td>\n",
       "      <td>11</td>\n",
       "      <td>18063.0</td>\n",
       "      <td>False</td>\n",
       "      <td>False</td>\n",
       "    </tr>\n",
       "    <tr>\n",
       "      <th>18630</th>\n",
       "      <td>12623</td>\n",
       "      <td>35</td>\n",
       "      <td>0</td>\n",
       "      <td>2008</td>\n",
       "      <td>0</td>\n",
       "      <td>0</td>\n",
       "      <td>False</td>\n",
       "      <td>8</td>\n",
       "      <td>22779.0</td>\n",
       "      <td>False</td>\n",
       "      <td>False</td>\n",
       "    </tr>\n",
       "    <tr>\n",
       "      <th>35212</th>\n",
       "      <td>26926</td>\n",
       "      <td>45</td>\n",
       "      <td>0</td>\n",
       "      <td>2014</td>\n",
       "      <td>0</td>\n",
       "      <td>0</td>\n",
       "      <td>False</td>\n",
       "      <td>2</td>\n",
       "      <td>20508.0</td>\n",
       "      <td>False</td>\n",
       "      <td>False</td>\n",
       "    </tr>\n",
       "    <tr>\n",
       "      <th>10240</th>\n",
       "      <td>6117</td>\n",
       "      <td>60</td>\n",
       "      <td>1</td>\n",
       "      <td>2006</td>\n",
       "      <td>1</td>\n",
       "      <td>1</td>\n",
       "      <td>True</td>\n",
       "      <td>10</td>\n",
       "      <td>17800.0</td>\n",
       "      <td>False</td>\n",
       "      <td>False</td>\n",
       "    </tr>\n",
       "    <tr>\n",
       "      <th>20446</th>\n",
       "      <td>14044</td>\n",
       "      <td>40</td>\n",
       "      <td>1</td>\n",
       "      <td>2009</td>\n",
       "      <td>0</td>\n",
       "      <td>0</td>\n",
       "      <td>False</td>\n",
       "      <td>7</td>\n",
       "      <td>11562.0</td>\n",
       "      <td>False</td>\n",
       "      <td>False</td>\n",
       "    </tr>\n",
       "    <tr>\n",
       "      <th>4821</th>\n",
       "      <td>2986</td>\n",
       "      <td>55</td>\n",
       "      <td>1</td>\n",
       "      <td>2016</td>\n",
       "      <td>0</td>\n",
       "      <td>0</td>\n",
       "      <td>False</td>\n",
       "      <td>0</td>\n",
       "      <td>16515.0</td>\n",
       "      <td>False</td>\n",
       "      <td>False</td>\n",
       "    </tr>\n",
       "    <tr>\n",
       "      <th>9443</th>\n",
       "      <td>5572</td>\n",
       "      <td>40</td>\n",
       "      <td>1</td>\n",
       "      <td>2013</td>\n",
       "      <td>2</td>\n",
       "      <td>8</td>\n",
       "      <td>False</td>\n",
       "      <td>3</td>\n",
       "      <td>13508.0</td>\n",
       "      <td>False</td>\n",
       "      <td>False</td>\n",
       "    </tr>\n",
       "    <tr>\n",
       "      <th>22095</th>\n",
       "      <td>15341</td>\n",
       "      <td>30</td>\n",
       "      <td>1</td>\n",
       "      <td>2009</td>\n",
       "      <td>0</td>\n",
       "      <td>0</td>\n",
       "      <td>False</td>\n",
       "      <td>7</td>\n",
       "      <td>17441.0</td>\n",
       "      <td>False</td>\n",
       "      <td>False</td>\n",
       "    </tr>\n",
       "    <tr>\n",
       "      <th>31210</th>\n",
       "      <td>23143</td>\n",
       "      <td>25</td>\n",
       "      <td>0</td>\n",
       "      <td>2013</td>\n",
       "      <td>0</td>\n",
       "      <td>0</td>\n",
       "      <td>False</td>\n",
       "      <td>3</td>\n",
       "      <td>14471.0</td>\n",
       "      <td>False</td>\n",
       "      <td>False</td>\n",
       "    </tr>\n",
       "    <tr>\n",
       "      <th>33713</th>\n",
       "      <td>25503</td>\n",
       "      <td>30</td>\n",
       "      <td>0</td>\n",
       "      <td>2013</td>\n",
       "      <td>0</td>\n",
       "      <td>0</td>\n",
       "      <td>False</td>\n",
       "      <td>3</td>\n",
       "      <td>15084.0</td>\n",
       "      <td>False</td>\n",
       "      <td>False</td>\n",
       "    </tr>\n",
       "    <tr>\n",
       "      <th>20474</th>\n",
       "      <td>14070</td>\n",
       "      <td>50</td>\n",
       "      <td>1</td>\n",
       "      <td>2009</td>\n",
       "      <td>0</td>\n",
       "      <td>0</td>\n",
       "      <td>False</td>\n",
       "      <td>7</td>\n",
       "      <td>12869.0</td>\n",
       "      <td>False</td>\n",
       "      <td>False</td>\n",
       "    </tr>\n",
       "    <tr>\n",
       "      <th>22028</th>\n",
       "      <td>15286</td>\n",
       "      <td>30</td>\n",
       "      <td>0</td>\n",
       "      <td>2009</td>\n",
       "      <td>0</td>\n",
       "      <td>0</td>\n",
       "      <td>False</td>\n",
       "      <td>7</td>\n",
       "      <td>15582.0</td>\n",
       "      <td>False</td>\n",
       "      <td>False</td>\n",
       "    </tr>\n",
       "    <tr>\n",
       "      <th>4991</th>\n",
       "      <td>3093</td>\n",
       "      <td>25</td>\n",
       "      <td>1</td>\n",
       "      <td>2003</td>\n",
       "      <td>0</td>\n",
       "      <td>0</td>\n",
       "      <td>False</td>\n",
       "      <td>13</td>\n",
       "      <td>15954.0</td>\n",
       "      <td>False</td>\n",
       "      <td>False</td>\n",
       "    </tr>\n",
       "    <tr>\n",
       "      <th>20054</th>\n",
       "      <td>13747</td>\n",
       "      <td>20</td>\n",
       "      <td>1</td>\n",
       "      <td>2010</td>\n",
       "      <td>1</td>\n",
       "      <td>1</td>\n",
       "      <td>True</td>\n",
       "      <td>6</td>\n",
       "      <td>13206.0</td>\n",
       "      <td>False</td>\n",
       "      <td>False</td>\n",
       "    </tr>\n",
       "    <tr>\n",
       "      <th>32867</th>\n",
       "      <td>24708</td>\n",
       "      <td>25</td>\n",
       "      <td>0</td>\n",
       "      <td>2013</td>\n",
       "      <td>0</td>\n",
       "      <td>0</td>\n",
       "      <td>False</td>\n",
       "      <td>3</td>\n",
       "      <td>12634.0</td>\n",
       "      <td>False</td>\n",
       "      <td>False</td>\n",
       "    </tr>\n",
       "    <tr>\n",
       "      <th>23079</th>\n",
       "      <td>16131</td>\n",
       "      <td>35</td>\n",
       "      <td>0</td>\n",
       "      <td>2010</td>\n",
       "      <td>0</td>\n",
       "      <td>0</td>\n",
       "      <td>False</td>\n",
       "      <td>6</td>\n",
       "      <td>13721.0</td>\n",
       "      <td>False</td>\n",
       "      <td>False</td>\n",
       "    </tr>\n",
       "    <tr>\n",
       "      <th>30959</th>\n",
       "      <td>22908</td>\n",
       "      <td>40</td>\n",
       "      <td>1</td>\n",
       "      <td>2012</td>\n",
       "      <td>0</td>\n",
       "      <td>0</td>\n",
       "      <td>False</td>\n",
       "      <td>4</td>\n",
       "      <td>21541.0</td>\n",
       "      <td>False</td>\n",
       "      <td>False</td>\n",
       "    </tr>\n",
       "    <tr>\n",
       "      <th>12969</th>\n",
       "      <td>8172</td>\n",
       "      <td>30</td>\n",
       "      <td>1</td>\n",
       "      <td>2006</td>\n",
       "      <td>0</td>\n",
       "      <td>0</td>\n",
       "      <td>False</td>\n",
       "      <td>10</td>\n",
       "      <td>13125.0</td>\n",
       "      <td>False</td>\n",
       "      <td>False</td>\n",
       "    </tr>\n",
       "    <tr>\n",
       "      <th>9130</th>\n",
       "      <td>5383</td>\n",
       "      <td>25</td>\n",
       "      <td>1</td>\n",
       "      <td>2004</td>\n",
       "      <td>0</td>\n",
       "      <td>0</td>\n",
       "      <td>False</td>\n",
       "      <td>12</td>\n",
       "      <td>11525.0</td>\n",
       "      <td>False</td>\n",
       "      <td>False</td>\n",
       "    </tr>\n",
       "    <tr>\n",
       "      <th>2900</th>\n",
       "      <td>1758</td>\n",
       "      <td>35</td>\n",
       "      <td>0</td>\n",
       "      <td>2016</td>\n",
       "      <td>0</td>\n",
       "      <td>0</td>\n",
       "      <td>False</td>\n",
       "      <td>0</td>\n",
       "      <td>14385.0</td>\n",
       "      <td>False</td>\n",
       "      <td>False</td>\n",
       "    </tr>\n",
       "  </tbody>\n",
       "</table>\n",
       "<p>38402 rows × 11 columns</p>\n",
       "</div>"
      ],
      "text/plain": [
       "          id  age  male  year  run_count  years_since_run ran_last_year  \\\n",
       "24359  17181   20     1  2010          0                0         False   \n",
       "19091  13001   45     1  2008          0                0         False   \n",
       "30809  22772   35     0  2012          0                0         False   \n",
       "8578    5010   25     0  2004          0                0         False   \n",
       "10938   6642   25     1  2005          0                0         False   \n",
       "16441  10875   40     1  2007          0                0         False   \n",
       "14257   9182   35     1  2006          0                0         False   \n",
       "32692  24538   20     0  2013          0                0         False   \n",
       "31762  23666   40     1  2013          0                0         False   \n",
       "17528  11757   25     1  2008          0                0         False   \n",
       "19186  13081   35     0  2008          0                0         False   \n",
       "21262  14692   40     0  2009          0                0         False   \n",
       "21811  15110   50     0  2009          0                0         False   \n",
       "9064    5332   25     0  2004          0                0         False   \n",
       "7814    4507   40     1  2004          0                0         False   \n",
       "187      107   50     1  2016          1                4         False   \n",
       "24814  17537   45     1  2012          1                1          True   \n",
       "27345  19645   35     1  2013          1                2         False   \n",
       "29689  21750   35     0  2012          0                0         False   \n",
       "11336   6925   60     1  2011          5                1          True   \n",
       "7761    4475   35     0  2004          0                0         False   \n",
       "8840    5188   40     1  2006          1                2         False   \n",
       "11383   6955   30     1  2005          0                0         False   \n",
       "24820  17543   45     1  2011          0                0         False   \n",
       "33479  25284   25     1  2013          0                0         False   \n",
       "1383     837   25     0  2016          2                4         False   \n",
       "28319  20500   40     0  2012          0                0         False   \n",
       "36227  27878   45     1  2014          0                0         False   \n",
       "11996   7412   30     1  2006          0                0         False   \n",
       "36438  28080   55     1  2014          0                0         False   \n",
       "...      ...  ...   ...   ...        ...              ...           ...   \n",
       "7053    4056   30     1  2003          0                0         False   \n",
       "38689  30303   30     0  2015          0                0         False   \n",
       "2063    1238   30     1  2016          0                0         False   \n",
       "9035    5315   35     1  2015          9                0         False   \n",
       "9107    5365   30     1  2004          0                0         False   \n",
       "19745  13510   40     1  2009          0                0         False   \n",
       "26556  18999   30     1  2011          0                0         False   \n",
       "37838  29452   40     0  2015          0                0         False   \n",
       "14288   9209   35     1  2007          0                0         False   \n",
       "12372   7713   35     1  2006          0                0         False   \n",
       "7733    4456   50     1  2005          1                1          True   \n",
       "18630  12623   35     0  2008          0                0         False   \n",
       "35212  26926   45     0  2014          0                0         False   \n",
       "10240   6117   60     1  2006          1                1          True   \n",
       "20446  14044   40     1  2009          0                0         False   \n",
       "4821    2986   55     1  2016          0                0         False   \n",
       "9443    5572   40     1  2013          2                8         False   \n",
       "22095  15341   30     1  2009          0                0         False   \n",
       "31210  23143   25     0  2013          0                0         False   \n",
       "33713  25503   30     0  2013          0                0         False   \n",
       "20474  14070   50     1  2009          0                0         False   \n",
       "22028  15286   30     0  2009          0                0         False   \n",
       "4991    3093   25     1  2003          0                0         False   \n",
       "20054  13747   20     1  2010          1                1          True   \n",
       "32867  24708   25     0  2013          0                0         False   \n",
       "23079  16131   35     0  2010          0                0         False   \n",
       "30959  22908   40     1  2012          0                0         False   \n",
       "12969   8172   30     1  2006          0                0         False   \n",
       "9130    5383   25     1  2004          0                0         False   \n",
       "2900    1758   35     0  2016          0                0         False   \n",
       "\n",
       "       years_to_prediction  time_in_seconds ignore participated_in_year  \n",
       "24359                    6          18848.0  False                False  \n",
       "19091                    8          15697.0  False                False  \n",
       "30809                    4          10212.0  False                False  \n",
       "8578                    12          17593.0  False                False  \n",
       "10938                   11          14215.0  False                False  \n",
       "16441                    9          14914.0  False                False  \n",
       "14257                   10          14531.0  False                False  \n",
       "32692                    3          14978.0  False                False  \n",
       "31762                    3          14386.0  False                False  \n",
       "17528                    8          17853.0  False                False  \n",
       "19186                    8          16317.0  False                False  \n",
       "21262                    7          17314.0  False                False  \n",
       "21811                    7          18195.0  False                False  \n",
       "9064                    12          17668.0  False                False  \n",
       "7814                    12          11913.0  False                False  \n",
       "187                      0          16968.0  False                False  \n",
       "24814                    4          18224.0  False                False  \n",
       "27345                    3          13164.0  False                False  \n",
       "29689                    4          14460.0  False                False  \n",
       "11336                    5          13171.0  False                False  \n",
       "7761                    12          13831.0  False                False  \n",
       "8840                    10          14740.0  False                False  \n",
       "11383                   11          15257.0  False                False  \n",
       "24820                    5          13583.0  False                False  \n",
       "33479                    3          12353.0  False                False  \n",
       "1383                     0          15242.0  False                False  \n",
       "28319                    4          19458.0  False                False  \n",
       "36227                    2          18340.0  False                False  \n",
       "11996                   10          12347.0  False                False  \n",
       "36438                    2          17764.0  False                False  \n",
       "...                    ...              ...    ...                  ...  \n",
       "7053                    13          15007.0  False                False  \n",
       "38689                    1          15624.0  False                False  \n",
       "2063                     0          15897.0  False                False  \n",
       "9035                     1          18945.0  False                False  \n",
       "9107                    12          16102.0  False                False  \n",
       "19745                    7          18225.0  False                False  \n",
       "26556                    5          13169.0  False                False  \n",
       "37838                    1          22853.0  False                False  \n",
       "14288                    9          15713.0  False                False  \n",
       "12372                   10          15348.0  False                False  \n",
       "7733                    11          18063.0  False                False  \n",
       "18630                    8          22779.0  False                False  \n",
       "35212                    2          20508.0  False                False  \n",
       "10240                   10          17800.0  False                False  \n",
       "20446                    7          11562.0  False                False  \n",
       "4821                     0          16515.0  False                False  \n",
       "9443                     3          13508.0  False                False  \n",
       "22095                    7          17441.0  False                False  \n",
       "31210                    3          14471.0  False                False  \n",
       "33713                    3          15084.0  False                False  \n",
       "20474                    7          12869.0  False                False  \n",
       "22028                    7          15582.0  False                False  \n",
       "4991                    13          15954.0  False                False  \n",
       "20054                    6          13206.0  False                False  \n",
       "32867                    3          12634.0  False                False  \n",
       "23079                    6          13721.0  False                False  \n",
       "30959                    4          21541.0  False                False  \n",
       "12969                   10          13125.0  False                False  \n",
       "9130                    12          11525.0  False                False  \n",
       "2900                     0          14385.0  False                False  \n",
       "\n",
       "[38402 rows x 11 columns]"
      ]
     },
     "execution_count": 6,
     "metadata": {},
     "output_type": "execute_result"
    }
   ],
   "source": [
    "df"
   ]
  },
  {
   "cell_type": "markdown",
   "metadata": {},
   "source": [
    "## Splitting data"
   ]
  },
  {
   "cell_type": "code",
   "execution_count": 7,
   "metadata": {
    "collapsed": true
   },
   "outputs": [],
   "source": [
    "import numpy as np"
   ]
  },
  {
   "cell_type": "code",
   "execution_count": 8,
   "metadata": {
    "collapsed": true
   },
   "outputs": [],
   "source": [
    "def get_nb_inputs(df):\n",
    "    return df[[\"age\", \"male\", \"run_count\", \"years_since_run\", \"years_to_prediction\"]]\n",
    "\n",
    "\n",
    "def get_reg_inputs(df):\n",
    "    return df[[\"age\", \"male\", \"run_count\", \"years_since_run\", \"time_in_seconds\"]]\n",
    "\n",
    "\n",
    "def get_outputs(df):\n",
    "    return df[\"participated_in_year\"]\n",
    "\n",
    "\n",
    "def count(df):\n",
    "    return df.count().id"
   ]
  },
  {
   "cell_type": "code",
   "execution_count": 9,
   "metadata": {
    "collapsed": false
   },
   "outputs": [],
   "source": [
    "dataset = df[df.year < TRAINING_PREDICTION_YEAR]\n",
    "training_mask = np.random.rand(len(dataset)) < TRAINING_DATA_PERCENT\n",
    "training = dataset[training_mask]\n",
    "testing = dataset[~training_mask]\n",
    "\n",
    "training_nb_inputs = get_nb_inputs(training)\n",
    "training_reg_inputs = get_reg_inputs(training)\n",
    "training_outputs = get_outputs(training)\n",
    "\n",
    "testing_nb_inputs = get_nb_inputs(testing)\n",
    "testing_reg_inputs = get_reg_inputs(testing)\n",
    "testing_outputs = get_outputs(testing)"
   ]
  },
  {
   "cell_type": "code",
   "execution_count": 10,
   "metadata": {
    "collapsed": false
   },
   "outputs": [],
   "source": [
    "training_positives = count(training[training.participated_in_year])\n",
    "training_total = count(training)\n",
    "\n",
    "testing_positives = count(testing[testing.participated_in_year])\n",
    "testing_total = count(testing)"
   ]
  },
  {
   "cell_type": "code",
   "execution_count": 11,
   "metadata": {
    "collapsed": false
   },
   "outputs": [
    {
     "data": {
      "text/plain": [
       "(561, 24780, 0.023)"
      ]
     },
     "execution_count": 11,
     "metadata": {},
     "output_type": "execute_result"
    }
   ],
   "source": [
    "training_positives, training_total, training_positives / training_total"
   ]
  },
  {
   "cell_type": "code",
   "execution_count": 12,
   "metadata": {
    "collapsed": false
   },
   "outputs": [
    {
     "data": {
      "text/plain": [
       "(240, 10606, 0.023)"
      ]
     },
     "execution_count": 12,
     "metadata": {},
     "output_type": "execute_result"
    }
   ],
   "source": [
    "testing_positives, testing_total, testing_positives / testing_total"
   ]
  },
  {
   "cell_type": "markdown",
   "metadata": {},
   "source": [
    "## Training"
   ]
  },
  {
   "cell_type": "markdown",
   "metadata": {},
   "source": [
    "#### Bernoulli Naive Bayes"
   ]
  },
  {
   "cell_type": "code",
   "execution_count": 13,
   "metadata": {
    "collapsed": true
   },
   "outputs": [],
   "source": [
    "from sklearn.naive_bayes import BernoulliNB"
   ]
  },
  {
   "cell_type": "code",
   "execution_count": 14,
   "metadata": {
    "collapsed": false
   },
   "outputs": [],
   "source": [
    "bnb = BernoulliNB()\n",
    "bnb = bnb.fit(training_nb_inputs, training_outputs)"
   ]
  },
  {
   "cell_type": "code",
   "execution_count": 15,
   "metadata": {
    "collapsed": false
   },
   "outputs": [],
   "source": [
    "bnb_predictions = bnb.predict(testing_nb_inputs)"
   ]
  },
  {
   "cell_type": "markdown",
   "metadata": {},
   "source": [
    "#### Gaussian Naive Bayes"
   ]
  },
  {
   "cell_type": "code",
   "execution_count": 16,
   "metadata": {
    "collapsed": true
   },
   "outputs": [],
   "source": [
    "from sklearn.naive_bayes import GaussianNB"
   ]
  },
  {
   "cell_type": "code",
   "execution_count": 17,
   "metadata": {
    "collapsed": false
   },
   "outputs": [],
   "source": [
    "gnb = GaussianNB()\n",
    "gnb = gnb.fit(training_nb_inputs, training_outputs)"
   ]
  },
  {
   "cell_type": "code",
   "execution_count": 18,
   "metadata": {
    "collapsed": false
   },
   "outputs": [],
   "source": [
    "gnb_predictions = gnb.predict(testing_nb_inputs)"
   ]
  },
  {
   "cell_type": "markdown",
   "metadata": {},
   "source": [
    "#### Multinomial Naive Bayes"
   ]
  },
  {
   "cell_type": "code",
   "execution_count": 19,
   "metadata": {
    "collapsed": true
   },
   "outputs": [],
   "source": [
    "from sklearn.naive_bayes import MultinomialNB"
   ]
  },
  {
   "cell_type": "code",
   "execution_count": 20,
   "metadata": {
    "collapsed": false
   },
   "outputs": [],
   "source": [
    "mnb = MultinomialNB()\n",
    "mnb = mnb.fit(training_nb_inputs, training_outputs)"
   ]
  },
  {
   "cell_type": "code",
   "execution_count": 21,
   "metadata": {
    "collapsed": false
   },
   "outputs": [],
   "source": [
    "mnb_predictions = mnb.predict(testing_nb_inputs)"
   ]
  },
  {
   "cell_type": "markdown",
   "metadata": {},
   "source": [
    "#### Custom Multinomial Naive Bayes"
   ]
  },
  {
   "cell_type": "code",
   "execution_count": 22,
   "metadata": {
    "collapsed": true
   },
   "outputs": [],
   "source": [
    "from naive_bayes import MultinomialNaiveBayes"
   ]
  },
  {
   "cell_type": "code",
   "execution_count": 23,
   "metadata": {
    "collapsed": false
   },
   "outputs": [],
   "source": [
    "custom_mnb = MultinomialNaiveBayes()\n",
    "custom_mnb.fit(training_nb_inputs.as_matrix(), training_outputs.as_matrix())"
   ]
  },
  {
   "cell_type": "code",
   "execution_count": 24,
   "metadata": {
    "collapsed": false
   },
   "outputs": [],
   "source": [
    "custom_mnb_predictions = custom_mnb.predict(testing_nb_inputs.as_matrix())"
   ]
  },
  {
   "cell_type": "markdown",
   "metadata": {},
   "source": [
    "#### Logistic Regression"
   ]
  },
  {
   "cell_type": "code",
   "execution_count": 25,
   "metadata": {
    "collapsed": true
   },
   "outputs": [],
   "source": [
    "from sklearn.linear_model import LogisticRegression"
   ]
  },
  {
   "cell_type": "code",
   "execution_count": 26,
   "metadata": {
    "collapsed": false
   },
   "outputs": [],
   "source": [
    "reg = LogisticRegression()\n",
    "reg = reg.fit(training_reg_inputs, training_outputs)"
   ]
  },
  {
   "cell_type": "code",
   "execution_count": 27,
   "metadata": {
    "collapsed": false
   },
   "outputs": [],
   "source": [
    "reg_predictions = reg.predict(testing_reg_inputs)"
   ]
  },
  {
   "cell_type": "markdown",
   "metadata": {},
   "source": [
    "## Testing"
   ]
  },
  {
   "cell_type": "code",
   "execution_count": 28,
   "metadata": {
    "collapsed": false
   },
   "outputs": [],
   "source": [
    "import seaborn as sns\n",
    "import matplotlib.pyplot as plt\n",
    "from sklearn.metrics import confusion_matrix"
   ]
  },
  {
   "cell_type": "code",
   "execution_count": 29,
   "metadata": {
    "collapsed": false
   },
   "outputs": [],
   "source": [
    "_ = np.seterr(divide=\"ignore\", invalid=\"ignore\")"
   ]
  },
  {
   "cell_type": "code",
   "execution_count": 30,
   "metadata": {
    "collapsed": false
   },
   "outputs": [],
   "source": [
    "def get_confusion_matrix_as_df(c_matrix):\n",
    "    confusion_df = pd.DataFrame(c_matrix,\n",
    "                                index=[\"N\", \"Y\"],\n",
    "                                columns=[\"N\", \"Y\"])\n",
    "\n",
    "    percent_df = confusion_df.applymap(lambda x: x / c_matrix.sum())\n",
    "\n",
    "    return confusion_df, percent_df\n",
    "\n",
    "\n",
    "def plot_confusion_matrix(confusion, percent):\n",
    "    fig, axs = plt.subplots(nrows=2, sharex=True)\n",
    "    sns.heatmap(confusion, annot=True, fmt=\"d\", ax=axs[0])\n",
    "    sns.heatmap(percent, annot=True, ax=axs[1])\n",
    "\n",
    "    \n",
    "def score(c_matrix):\n",
    "    TN = c_matrix[0, 0]\n",
    "    FN = c_matrix[1, 0]\n",
    "    TP = c_matrix[1, 1]\n",
    "    FP = c_matrix[0, 1]\n",
    "\n",
    "    accuracy = (TN + TP) / c_matrix.sum()\n",
    "    precision = TP / (TP + FP)\n",
    "    recall = TP / (TP + FN)\n",
    "    specificity = TN / (FP + TN)\n",
    "    false_positive_rate = FP / (FP + TN)\n",
    "    f1_measure = 2 * (precision * recall) / (precision + recall)\n",
    "    \n",
    "    return {\n",
    "        \"accuracy\": accuracy,\n",
    "        \"precision\": precision,\n",
    "        \"recall\": recall,\n",
    "        \"specificity\": specificity,\n",
    "        \"false_positive_rate\": false_positive_rate,\n",
    "        \"f1_measure\": f1_measure\n",
    "    }\n",
    "\n",
    "\n",
    "def measure(predictions, truth):\n",
    "    c_matrix = confusion_matrix(truth, predictions)\n",
    "    plot_confusion_matrix(*get_confusion_matrix_as_df(c_matrix))\n",
    "    return score(c_matrix)"
   ]
  },
  {
   "cell_type": "markdown",
   "metadata": {},
   "source": [
    "#### Expected Distribution"
   ]
  },
  {
   "cell_type": "code",
   "execution_count": 31,
   "metadata": {
    "collapsed": false
   },
   "outputs": [
    {
     "data": {
      "text/plain": [
       "{'accuracy': 1.000,\n",
       " 'f1_measure': 1.000,\n",
       " 'false_positive_rate': 0.000,\n",
       " 'precision': 1.000,\n",
       " 'recall': 1.000,\n",
       " 'specificity': 1.000}"
      ]
     },
     "execution_count": 31,
     "metadata": {},
     "output_type": "execute_result"
    },
    {
     "data": {
      "image/png": "[encoded data removed]",
      "text/plain": [
       "<matplotlib.figure.Figure at 0x111108c18>"
      ]
     },
     "metadata": {},
     "output_type": "display_data"
    }
   ],
   "source": [
    "measure(testing_outputs, testing_outputs)"
   ]
  },
  {
   "cell_type": "markdown",
   "metadata": {},
   "source": [
    "#### Bernouilli Naive Bayes"
   ]
  },
  {
   "cell_type": "code",
   "execution_count": null,
   "metadata": {
    "collapsed": false,
    "scrolled": false
   },
   "outputs": [
    {
     "data": {
      "text/plain": [
       "{'accuracy': 0.977,\n",
       " 'f1_measure': nan,\n",
       " 'false_positive_rate': 0.000,\n",
       " 'precision': nan,\n",
       " 'recall': 0.000,\n",
       " 'specificity': 1.000}"
      ]
     },
     "execution_count": 32,
     "metadata": {},
     "output_type": "execute_result"
    },
    {
     "data": {
      "image/png": "[encoded data removed]",
      "text/plain": [
       "<matplotlib.figure.Figure at 0x1151a71d0>"
      ]
     },
     "metadata": {},
     "output_type": "display_data"
    }
   ],
   "source": [
    "measure(bnb_predictions, testing_outputs)"
   ]
  },
  {
   "cell_type": "markdown",
   "metadata": {},
   "source": [
    "#### Gaussian Naive Bayes"
   ]
  },
  {
   "cell_type": "code",
   "execution_count": null,
   "metadata": {
    "collapsed": false
   },
   "outputs": [
    {
     "data": {
      "text/plain": [
       "{'accuracy': 0.945,\n",
       " 'f1_measure': 0.138,\n",
       " 'false_positive_rate': 0.038,\n",
       " 'precision': 0.107,\n",
       " 'recall': 0.196,\n",
       " 'specificity': 0.962}"
      ]
     },
     "execution_count": 33,
     "metadata": {},
     "output_type": "execute_result"
    }
   ],
   "source": [
    "measure(gnb_predictions, testing_outputs)"
   ]
  },
  {
   "cell_type": "markdown",
   "metadata": {},
   "source": [
    "#### Multinomial Naive Bayes"
   ]
  },
  {
   "cell_type": "code",
   "execution_count": null,
   "metadata": {
    "collapsed": false
   },
   "outputs": [],
   "source": [
    "measure(mnb_predictions, testing_outputs)"
   ]
  },
  {
   "cell_type": "markdown",
   "metadata": {},
   "source": [
    "#### Custom Multinomial Naive Bayes"
   ]
  },
  {
   "cell_type": "code",
   "execution_count": null,
   "metadata": {
    "collapsed": false
   },
   "outputs": [],
   "source": [
    "measure(custom_mnb_predictions, testing_outputs)"
   ]
  },
  {
   "cell_type": "markdown",
   "metadata": {},
   "source": [
    "#### Logistic Regression"
   ]
  },
  {
   "cell_type": "code",
   "execution_count": null,
   "metadata": {
    "collapsed": false
   },
   "outputs": [],
   "source": [
    "measure(reg_predictions, testing_outputs)"
   ]
  },
  {
   "cell_type": "markdown",
   "metadata": {},
   "source": [
    "## Future Prediction"
   ]
  },
  {
   "cell_type": "code",
   "execution_count": null,
   "metadata": {
    "collapsed": false
   },
   "outputs": [],
   "source": [
    "prediction_df = all_df.copy().sort_values(by=[\"id\", \"year\"])\n",
    "prediction_df[\"years_to_prediction\"] = all_df[\"year\"].apply(lambda x: PREDICTION_YEAR - x)\n",
    "\n",
    "set_all_participated_in_year(prediction_df, PREDICTION_YEAR)\n",
    "\n",
    "prediction_df = prediction_df[prediction_df.year < PREDICTION_YEAR]\n",
    "prediction_df.drop_duplicates(keep=\"last\", subset=\"id\", inplace=True)"
   ]
  },
  {
   "cell_type": "code",
   "execution_count": null,
   "metadata": {
    "collapsed": true
   },
   "outputs": [],
   "source": [
    "prediction_nb_inputs = get_nb_inputs(prediction_df)\n",
    "prediction_reg_inputs = get_reg_inputs(prediction_df)\n",
    "\n",
    "prediction_outputs = get_outputs(prediction_df)"
   ]
  },
  {
   "cell_type": "code",
   "execution_count": null,
   "metadata": {
    "collapsed": false
   },
   "outputs": [],
   "source": [
    "bnb_predictions = bnb.predict(prediction_nb_inputs)\n",
    "gnb_predictions = gnb.predict(prediction_nb_inputs)\n",
    "mnb_predictions = mnb.predict(prediction_nb_inputs)\n",
    "custom_mnb_predictions = custom_mnb.predict(prediction_nb_inputs.as_matrix())\n",
    "reg_predictions = reg.predict(prediction_reg_inputs)"
   ]
  },
  {
   "cell_type": "code",
   "execution_count": null,
   "metadata": {
    "collapsed": false,
    "scrolled": true
   },
   "outputs": [],
   "source": [
    "total = count(prediction_df)\n",
    "[\n",
    "    sum(bnb_predictions) / total,\n",
    "    sum(gnb_predictions) / total,\n",
    "    sum(mnb_predictions) / total,\n",
    "    sum(custom_mnb_predictions) / total,\n",
    "    sum(reg_predictions) / total    \n",
    "]"
   ]
  },
  {
   "cell_type": "markdown",
   "metadata": {},
   "source": [
    "### Metrics\n",
    "\n",
    "*Ignore score if no data is available for the prediction year.*"
   ]
  },
  {
   "cell_type": "markdown",
   "metadata": {},
   "source": [
    "#### Expected Distribution"
   ]
  },
  {
   "cell_type": "code",
   "execution_count": null,
   "metadata": {
    "collapsed": false
   },
   "outputs": [],
   "source": [
    "if PREDICTION_YEAR <= MAX_YEAR:\n",
    "    measure(prediction_outputs, prediction_outputs)"
   ]
  },
  {
   "cell_type": "markdown",
   "metadata": {},
   "source": [
    "#### Bernouilli Naive Bayes"
   ]
  },
  {
   "cell_type": "code",
   "execution_count": null,
   "metadata": {
    "collapsed": false,
    "scrolled": false
   },
   "outputs": [],
   "source": [
    "measure(bnb_predictions, prediction_outputs)"
   ]
  },
  {
   "cell_type": "markdown",
   "metadata": {},
   "source": [
    "#### Gaussian Naive Bayes"
   ]
  },
  {
   "cell_type": "code",
   "execution_count": null,
   "metadata": {
    "collapsed": false
   },
   "outputs": [],
   "source": [
    "measure(gnb_predictions, prediction_outputs)"
   ]
  },
  {
   "cell_type": "markdown",
   "metadata": {},
   "source": [
    "#### Multinomial Naive Bayes"
   ]
  },
  {
   "cell_type": "code",
   "execution_count": null,
   "metadata": {
    "collapsed": false
   },
   "outputs": [],
   "source": [
    "measure(mnb_predictions, prediction_outputs)"
   ]
  },
  {
   "cell_type": "markdown",
   "metadata": {},
   "source": [
    "#### Custom Multinomial Naive Bayes"
   ]
  },
  {
   "cell_type": "code",
   "execution_count": null,
   "metadata": {
    "collapsed": false
   },
   "outputs": [],
   "source": [
    "measure(custom_mnb_predictions, prediction_outputs)"
   ]
  },
  {
   "cell_type": "markdown",
   "metadata": {},
   "source": [
    "#### Logistic Regression"
   ]
  },
  {
   "cell_type": "code",
   "execution_count": null,
   "metadata": {
    "collapsed": false
   },
   "outputs": [],
   "source": [
    "measure(reg_predictions, prediction_outputs)"
   ]
  },
  {
   "cell_type": "markdown",
   "metadata": {},
   "source": [
    "## Output"
   ]
  },
  {
   "cell_type": "code",
   "execution_count": null,
   "metadata": {
    "collapsed": false
   },
   "outputs": [],
   "source": [
    "def to_dataframe(pred):\n",
    "    data = np.vstack([prediction_df.id.as_matrix(), pred]).T\n",
    "    return pd.DataFrame(data, columns=[\"id\", \"y\"])\n",
    "\n",
    "prediction_only = to_dataframe(custom_mnb_predictions)\n",
    "prediction_df[\"y\"] = prediction_only[\"y\"].as_matrix()"
   ]
  },
  {
   "cell_type": "code",
   "execution_count": null,
   "metadata": {
    "collapsed": true
   },
   "outputs": [],
   "source": [
    "if PREDICTION_YEAR > MAX_YEAR:\n",
    "    prediction_only.to_csv(\"naive_bayes_prediction.csv\", index=False, header=False)"
   ]
  },
  {
   "cell_type": "markdown",
   "metadata": {},
   "source": [
    "# Previous years comparison"
   ]
  },
  {
   "cell_type": "code",
   "execution_count": null,
   "metadata": {
    "collapsed": false
   },
   "outputs": [],
   "source": [
    "year_on_year = []\n",
    "for year in range(MIN_YEAR + 1, PREDICTION_YEAR):\n",
    "    total = count(df[df.year == year])\n",
    "    newbies = count(df[(df.year == year) & (df.run_count == 0)])\n",
    "    oldies = total - newbies\n",
    "    year_on_year.append([year, newbies, oldies, total, oldies / total])\n",
    "\n",
    "year_on_year_df = pd.DataFrame(year_on_year,\n",
    "                               columns=[\"year\", \"new\", \"returning\", \"total\", \"returning rate\"])"
   ]
  },
  {
   "cell_type": "code",
   "execution_count": null,
   "metadata": {
    "collapsed": true
   },
   "outputs": [],
   "source": [
    "year_on_year_df"
   ]
  }
 ],
 "metadata": {
  "kernelspec": {
   "display_name": "Python 3",
   "language": "python",
   "name": "python3"
  },
  "language_info": {
   "codemirror_mode": {
    "name": "ipython",
    "version": 3
   },
   "file_extension": ".py",
   "mimetype": "text/x-python",
   "name": "python",
   "nbconvert_exporter": "python",
   "pygments_lexer": "ipython3",
   "version": "3.6.0"
  }
 },
 "nbformat": 4,
 "nbformat_minor": 2
}
